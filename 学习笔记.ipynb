{
 "cells": [
  {
   "cell_type": "markdown",
   "metadata": {},
   "source": [
    "# R730安装记录\n",
    "## 安装系统\n",
    "- RAID Ubuntu11.04 已经内置RAID5驱动\n",
    "- 镜像文件的烧录。Win采用Ultraiso  Linux 采用UUSB。否则提示缺少syslinux文件。\n",
    "- 如果硬盘挂在RAID卡上 即使不仅行RAID 也得安装驱动。可以修改硬盘模式 为IDE 或者AHCI\n",
    "- 应该可以关闭RAID。别乱改。。还是使用RAID5吧\n",
    "- \n",
    "## ftp服务器\n",
    "## 用户分组管理\n",
    "## 图书馆借书"
   ]
  }
 ],
 "metadata": {
  "kernelspec": {
   "display_name": "Python 3",
   "language": "python",
   "name": "python3"
  },
  "language_info": {
   "codemirror_mode": {
    "name": "ipython",
    "version": 3
   },
   "file_extension": ".py",
   "mimetype": "text/x-python",
   "name": "python",
   "nbconvert_exporter": "python",
   "pygments_lexer": "ipython3",
   "version": "3.6.1"
  }
 },
 "nbformat": 4,
 "nbformat_minor": 2
}
