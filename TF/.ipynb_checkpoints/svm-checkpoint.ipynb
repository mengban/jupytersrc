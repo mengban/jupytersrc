{
 "cells": [
  {
   "cell_type": "code",
   "execution_count": 1,
   "metadata": {},
   "outputs": [
    {
     "name": "stdout",
     "output_type": "stream",
     "text": [
      "Extracting /home/cadu/ml/dataset/tensorflow/mnist/input_data/train-images-idx3-ubyte.gz\n",
      "Extracting /home/cadu/ml/dataset/tensorflow/mnist/input_data/train-labels-idx1-ubyte.gz\n",
      "Extracting /home/cadu/ml/dataset/tensorflow/mnist/input_data/t10k-images-idx3-ubyte.gz\n",
      "Extracting /home/cadu/ml/dataset/tensorflow/mnist/input_data/t10k-labels-idx1-ubyte.gz\n",
      "This is y_train_ <class 'numpy.ndarray'> (60000,)\n"
     ]
    },
    {
     "ename": "NameError",
     "evalue": "name 'x' is not defined",
     "output_type": "error",
     "traceback": [
      "\u001b[0;31m---------------------------------------------------------------------------\u001b[0m",
      "\u001b[0;31mNameError\u001b[0m                                 Traceback (most recent call last)",
      "\u001b[0;32m<ipython-input-1-8888aec32186>\u001b[0m in \u001b[0;36m<module>\u001b[0;34m()\u001b[0m\n\u001b[1;32m     17\u001b[0m \u001b[0my_test_\u001b[0m \u001b[0;34m=\u001b[0m \u001b[0mnp\u001b[0m\u001b[0;34m.\u001b[0m\u001b[0margmax\u001b[0m\u001b[0;34m(\u001b[0m\u001b[0my_test\u001b[0m\u001b[0;34m,\u001b[0m\u001b[0;36m1\u001b[0m\u001b[0;34m)\u001b[0m\u001b[0;34m\u001b[0m\u001b[0m\n\u001b[1;32m     18\u001b[0m \u001b[0mprint\u001b[0m\u001b[0;34m(\u001b[0m\u001b[0;34m'This is y_train_'\u001b[0m\u001b[0;34m,\u001b[0m\u001b[0mtype\u001b[0m\u001b[0;34m(\u001b[0m\u001b[0my_train_\u001b[0m\u001b[0;34m)\u001b[0m\u001b[0;34m,\u001b[0m\u001b[0my_train_\u001b[0m\u001b[0;34m.\u001b[0m\u001b[0mshape\u001b[0m\u001b[0;34m)\u001b[0m\u001b[0;34m\u001b[0m\u001b[0m\n\u001b[0;32m---> 19\u001b[0;31m \u001b[0mprint\u001b[0m\u001b[0;34m(\u001b[0m\u001b[0;34m'This is x:'\u001b[0m\u001b[0;34m,\u001b[0m\u001b[0mlen\u001b[0m\u001b[0;34m(\u001b[0m\u001b[0mx\u001b[0m\u001b[0;34m)\u001b[0m\u001b[0;34m,\u001b[0m\u001b[0my\u001b[0m\u001b[0;34m.\u001b[0m\u001b[0mshape\u001b[0m\u001b[0;34m)\u001b[0m\u001b[0;34m\u001b[0m\u001b[0m\n\u001b[0m\u001b[1;32m     20\u001b[0m \u001b[0;31m#%matplotlib inline\u001b[0m\u001b[0;34m\u001b[0m\u001b[0;34m\u001b[0m\u001b[0m\n\u001b[1;32m     21\u001b[0m \u001b[0;31m# The digits dataset\u001b[0m\u001b[0;34m\u001b[0m\u001b[0;34m\u001b[0m\u001b[0m\n",
      "\u001b[0;31mNameError\u001b[0m: name 'x' is not defined"
     ]
    }
   ],
   "source": [
    "'''\n",
    "This is a demo for svm of mnist \n",
    "'''\n",
    "# Standard scientific Python imports\n",
    "import matplotlib.pyplot as plt\n",
    "import numpy as np\n",
    "# Import datasets, classifiers and performance metrics\n",
    "from sklearn import datasets, svm, metrics\n",
    "from tensorflow.examples.tutorials.mnist import input_data\n",
    "\n",
    "Flag_dir = '/home/cadu/ml/dataset/tensorflow/mnist/input_data'\n",
    "mnist = input_data.read_data_sets(Flag_dir,one_hot=True)\n",
    "x_train,y_train = mnist.train.next_batch(60000)\n",
    "y_train_ = np.argmax(y_train,1)\n",
    "\n",
    "x_test,y_test = mnist.test.next_batch(10000)\n",
    "y_test_ = np.argmax(y_test,1)\n",
    "print('This is y_train_',type(y_train_),y_train_.shape)\n",
    "#print('This is x:',len(x),y.shape)\n",
    "#%matplotlib inline\n",
    "# The digits dataset\n",
    "#x_samples = len(x)\n",
    "#print(x_samples)\n",
    "#print('target',digits.target,len(digits.target)) #1797\n",
    "\n",
    "# Create a classifier: a support vector classifier\n",
    "#建立分类器\n",
    "classifier = svm.SVC(gamma=0.001)\n",
    "\n",
    "# 学习\n",
    "print('Training starts...')\n",
    "classifier.fit(x_train, y_train_)\n",
    "\n",
    "#predicted\n",
    "print('Test starts...')\n",
    "expected=y_test_\n",
    "predicted=classifier.predict(x_test)\n",
    "print(\"Classification report for classifier %s:\\n%s\\n\"\n",
    "      % (classifier, metrics.classification_report(expected, predicted)))\n",
    "print(\"Confusion matrix:\\n%s\" % metrics.confusion_matrix(expected, predicted))\n"
   ]
  },
  {
   "cell_type": "code",
   "execution_count": null,
   "metadata": {
    "collapsed": true
   },
   "outputs": [],
   "source": []
  }
 ],
 "metadata": {
  "kernelspec": {
   "display_name": "Python 3",
   "language": "python",
   "name": "python3"
  },
  "language_info": {
   "codemirror_mode": {
    "name": "ipython",
    "version": 3
   },
   "file_extension": ".py",
   "mimetype": "text/x-python",
   "name": "python",
   "nbconvert_exporter": "python",
   "pygments_lexer": "ipython3",
   "version": "3.6.1"
  }
 },
 "nbformat": 4,
 "nbformat_minor": 2
}
