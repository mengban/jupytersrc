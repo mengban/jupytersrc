{
 "cells": [
  {
   "cell_type": "markdown",
   "metadata": {},
   "source": [
    "# logistic_regression"
   ]
  },
  {
   "cell_type": "code",
   "execution_count": null,
   "metadata": {},
   "outputs": [],
   "source": [
    "import tensorflow as tf\n",
    "import numpy as np\n",
    "from tensorflow.examples.tutorials.mnist import input_data\n",
    "\n",
    "print(type(input_data))  #<clas moudle>\n",
    "\n",
    "mnist = input_data.read_data_sets(\"/tmp/data/\",one_hot=True)\n",
    "\n",
    "print(type(mnist)) #<class 'tensorflow.contrib.learn.python.learn.datasets.base.Datasets'>\n",
    "\n",
    "# 0.1 is better than 0.01\n",
    "learning_rate = 0.1\n",
    "training_epochs =50\n",
    "batch_size = 100\n",
    "display_step = 1\n",
    "# input\n",
    "x = tf.placeholder(tf.float32,[None,784])\n",
    "y = tf.placeholder(tf.float32,[None,10])\n",
    "# model\n",
    "Weights = tf.Variable(tf.random_normal([784,10]))\n",
    "bias = tf.Variable(tf.zeros([10]))\n",
    "#softmax\n",
    "y_pred = tf.nn.softmax(tf.matmul(x,Weights)+bias)\n",
    "#loss\n",
    "loss = tf.reduce_mean(-tf.reduce_sum(y*tf.log(y_pred),reduction_indices=1))\n",
    "tf.summary.scalar('loss',loss)\n",
    "optimizer = tf.train.GradientDescentOptimizer(learning_rate)\n",
    "train = optimizer.minimize(loss)\n",
    "merged = tf.summary.merge_all()\n",
    "train_writer = tf.summary.FileWriter('/tmp/tensorboard',sess.graph)\n",
    "\n",
    "#init\n",
    "init = tf.global_variables_initializer()\n",
    "\n",
    "#a,c=mnist.train.next_batch(1)\n",
    "#b,d=mnist.train.next_batch(1)\n",
    "#print(tf.equal(a,b)),c=mnist.train.next_batch(1)\n",
    "b,d=mnist.train.next_batch(1)\n",
    "print(tf.equal(a,b))\n",
    "with tf.Session() as sess:\n",
    "    sess.run(init)\n",
    "    for epoch in range(training_epochs):\n",
    "        total_batch = (int)(mnist.train.num_examples/batch_size)\n",
    "        for i in range (total_batch):      \n",
    "            batch_xs,batch_ys=mnist.train.next_batch(batch_size)\n",
    "            sess.run(train,feed_dict={x:batch_xs,y:batch_ys})\n",
    "        correct_predition = tf.equal(tf.argmax(y_pred,1),tf.argmax(y,1))\n",
    "        accuracy = tf.reduce_mean(tf.cast(correct_predition,tf.float32))\n",
    "        print (\"accuracy:\",accuracy.eval(feed_dict={x:mnist.test.images,y:mnist.test.labels}))\n",
    "train_writer.close()\n",
    "\n"
   ]
  },
  {
   "cell_type": "code",
   "execution_count": 37,
   "metadata": {},
   "outputs": [
    {
     "name": "stdout",
     "output_type": "stream",
     "text": [
      "<class 'module'>\n",
      "Extracting /tmp/data/train-images-idx3-ubyte.gz\n",
      "Extracting /tmp/data/train-labels-idx1-ubyte.gz\n",
      "Extracting /tmp/data/t10k-images-idx3-ubyte.gz\n",
      "Extracting /tmp/data/t10k-labels-idx1-ubyte.gz\n",
      "<class 'tensorflow.contrib.learn.python.learn.datasets.base.Datasets'>\n"
     ]
    },
    {
     "ename": "TypeError",
     "evalue": "run() got multiple values for argument 'feed_dict'",
     "output_type": "error",
     "traceback": [
      "\u001b[0;31m---------------------------------------------------------------------------\u001b[0m",
      "\u001b[0;31mTypeError\u001b[0m                                 Traceback (most recent call last)",
      "\u001b[0;32m<ipython-input-37-05a164ccb526>\u001b[0m in \u001b[0;36m<module>\u001b[0;34m()\u001b[0m\n\u001b[1;32m     50\u001b[0m         \u001b[0;32mfor\u001b[0m \u001b[0mi\u001b[0m \u001b[0;32min\u001b[0m \u001b[0mrange\u001b[0m \u001b[0;34m(\u001b[0m\u001b[0mtotal_batch\u001b[0m\u001b[0;34m)\u001b[0m\u001b[0;34m:\u001b[0m\u001b[0;34m\u001b[0m\u001b[0m\n\u001b[1;32m     51\u001b[0m             \u001b[0mbatch_xs\u001b[0m\u001b[0;34m,\u001b[0m\u001b[0mbatch_ys\u001b[0m \u001b[0;34m=\u001b[0m \u001b[0mmnist\u001b[0m\u001b[0;34m.\u001b[0m\u001b[0mtrain\u001b[0m\u001b[0;34m.\u001b[0m\u001b[0mnext_batch\u001b[0m\u001b[0;34m(\u001b[0m\u001b[0mbatch_size\u001b[0m\u001b[0;34m)\u001b[0m\u001b[0;34m\u001b[0m\u001b[0m\n\u001b[0;32m---> 52\u001b[0;31m             \u001b[0msummary\u001b[0m\u001b[0;34m,\u001b[0m\u001b[0macc\u001b[0m \u001b[0;34m=\u001b[0m \u001b[0msess\u001b[0m\u001b[0;34m.\u001b[0m\u001b[0mrun\u001b[0m\u001b[0;34m(\u001b[0m\u001b[0mtrain\u001b[0m\u001b[0;34m,\u001b[0m\u001b[0maccuracy\u001b[0m\u001b[0;34m,\u001b[0m\u001b[0mfeed_dict\u001b[0m\u001b[0;34m=\u001b[0m\u001b[0;34m{\u001b[0m\u001b[0mx\u001b[0m\u001b[0;34m:\u001b[0m\u001b[0mbatch_xs\u001b[0m\u001b[0;34m,\u001b[0m\u001b[0my\u001b[0m\u001b[0;34m:\u001b[0m\u001b[0mbatch_ys\u001b[0m\u001b[0;34m}\u001b[0m\u001b[0;34m)\u001b[0m\u001b[0;34m\u001b[0m\u001b[0m\n\u001b[0m\u001b[1;32m     53\u001b[0m             \u001b[0mtrain_writer\u001b[0m\u001b[0;34m.\u001b[0m\u001b[0madd_summary\u001b[0m\u001b[0;34m(\u001b[0m\u001b[0macc\u001b[0m\u001b[0;34m,\u001b[0m\u001b[0mi\u001b[0m\u001b[0;34m)\u001b[0m\u001b[0;34m\u001b[0m\u001b[0m\n\u001b[1;32m     54\u001b[0m             \u001b[0msess\u001b[0m\u001b[0;34m.\u001b[0m\u001b[0mrun\u001b[0m\u001b[0;34m(\u001b[0m\u001b[0mtrain\u001b[0m\u001b[0;34m,\u001b[0m\u001b[0mfeed_dict\u001b[0m\u001b[0;34m=\u001b[0m\u001b[0;34m{\u001b[0m\u001b[0mx\u001b[0m\u001b[0;34m:\u001b[0m\u001b[0mbatch_xs\u001b[0m\u001b[0;34m,\u001b[0m\u001b[0my\u001b[0m\u001b[0;34m:\u001b[0m\u001b[0mbatch_ys\u001b[0m\u001b[0;34m}\u001b[0m\u001b[0;34m)\u001b[0m\u001b[0;34m\u001b[0m\u001b[0m\n",
      "\u001b[0;31mTypeError\u001b[0m: run() got multiple values for argument 'feed_dict'"
     ]
    }
   ],
   "source": [
    "import tensorflow as tf\n",
    "import numpy as np\n",
    "from tensorflow.examples.tutorials.mnist import input_data\n",
    "\n",
    "print(type(input_data))  #<clas moudle>\n",
    "\n",
    "mnist = input_data.read_data_sets(\"/tmp/data/\",one_hot=True)\n",
    "\n",
    "print(type(mnist)) #<class 'tensorflow.contrib.learn.python.learn.datasets.base.Datasets'>\n",
    "\n",
    "# 0.1 is better than 0.01\n",
    "learning_rate = 0.1\n",
    "training_epochs =50\n",
    "batch_size = 100\n",
    "display_step = 1\n",
    "# input\n",
    "x = tf.placeholder(tf.float32,[None,784])\n",
    "y = tf.placeholder(tf.float32,[None,10])\n",
    "# model\n",
    "Weights = tf.Variable(tf.random_normal([784,10]))\n",
    "bias = tf.Variable(tf.zeros([10]))\n",
    "#softmax\n",
    "y_pred = tf.nn.softmax(tf.matmul(x,Weights)+bias)\n",
    "#loss\n",
    "loss = tf.reduce_mean(-tf.reduce_sum(y*tf.log(y_pred),reduction_indices=1))\n",
    "\n",
    "\n",
    "optimizer = tf.train.GradientDescentOptimizer(learning_rate)\n",
    "train = optimizer.minimize(loss)\n",
    "#\n",
    "correct_predition = tf.equal(tf.argmax(y_pred,1),tf.argmax(y,1))\n",
    "accuracy = tf.reduce_mean(tf.cast(correct_predition,tf.float32))\n",
    "tf.summary.scalar('acc',accuracy)\n",
    "\n",
    "merged = tf.summary.merge_all()\n",
    "train_writer = tf.summary.FileWriter('/tmp/tensorboard',sess.graph)\n",
    "\n",
    "#init\n",
    "init = tf.global_variables_initializer()\n",
    "\n",
    "#a,c=mnist.train.next_batch(1)\n",
    "#b,d=mnist.train.next_batch(1)\n",
    "#print(tf.equal(a,b)),c=mnist.train.next_batch(1)\n",
    "b,d=mnist.train.next_batch(1)\n",
    "#print(tf.equal(a,b))\n",
    "with tf.Session() as sess:\n",
    "    sess.run(init)\n",
    "    for epoch in range(training_epochs):\n",
    "        total_batch = (int)(mnist.train.num_examples/batch_size)\n",
    "        for i in range (total_batch):      \n",
    "            batch_xs,batch_ys = mnist.train.next_batch(batch_size)\n",
    "            summary,acc = sess.run([train,accuracy],feed_dict={x:batch_xs,y:batch_ys})\n",
    "            train_writer.add_summary(summary,i)\n",
    "            sess.run(train,feed_dict={x:batch_xs,y:batch_ys})\n",
    "        \n",
    "        print (\"accuracy:\",accuracy.eval(feed_dict={x:mnist.test.images,y:mnist.test.labels}))\n",
    "train_writer.close()\n",
    "\n"
   ]
  },
  {
   "cell_type": "code",
   "execution_count": null,
   "metadata": {
    "collapsed": true
   },
   "outputs": [],
   "source": []
  }
 ],
 "metadata": {
  "kernelspec": {
   "display_name": "Python 3",
   "language": "python",
   "name": "python3"
  },
  "language_info": {
   "codemirror_mode": {
    "name": "ipython",
    "version": 3
   },
   "file_extension": ".py",
   "mimetype": "text/x-python",
   "name": "python",
   "nbconvert_exporter": "python",
   "pygments_lexer": "ipython3",
   "version": "3.6.1"
  }
 },
 "nbformat": 4,
 "nbformat_minor": 2
}
