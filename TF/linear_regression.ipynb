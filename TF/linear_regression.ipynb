{
 "cells": [
  {
   "cell_type": "markdown",
   "metadata": {},
   "source": [
    "## linear_regression"
   ]
  },
  {
   "cell_type": "code",
   "execution_count": 9,
   "metadata": {},
   "outputs": [
    {
     "name": "stdout",
     "output_type": "stream",
     "text": [
      "(100,) <class 'numpy.ndarray'> ()\n",
      "<class 'numpy.ndarray'> <class 'tensorflow.python.framework.ops.Tensor'>\n",
      "1.60928 0.332574\n",
      "1.10596 0.511228\n",
      "1.02167 0.530172\n",
      "1.00755 0.532165\n",
      "1.00518 0.532371\n",
      "1.00478 0.532392\n",
      "1.00472 0.532394\n",
      "1.00471 0.532394\n",
      "1.00471 0.532394\n",
      "1.0047 0.532394\n",
      "done\n"
     ]
    },
    {
     "data": {
      "image/png": "[encoded data removed]",
      "text/plain": [
       "<matplotlib.figure.Figure at 0x7ffa7c653320>"
      ]
     },
     "metadata": {},
     "output_type": "display_data"
    }
   ],
   "source": [
    "'''\n",
    "written\n",
    "by lius\n",
    "at 2017/10/10\n",
    "to linear_regression practice\n",
    "'''\n",
    "import tensorflow as tf\n",
    "import numpy as np\n",
    "import matplotlib.pyplot as plt\n",
    "rng=np.random\n",
    "%matplotlib inline\n",
    "x=[]\n",
    "y=[]\n",
    "vector=[]\n",
    "point_num=100\n",
    "for i in range(point_num):\n",
    "    tempx= np.random.normal(0,3)\n",
    "    tempy=tempx+np.random.rand()\n",
    "    x.append(tempx)\n",
    "    y.append(tempy)\n",
    "\n",
    "vector.append([x,y])\n",
    "# Vector\n",
    "xx=np.array(x)\n",
    "yy=np.array(y)\n",
    "#print(xx,yy)\n",
    "X=tf.placeholder(\"float\")\n",
    "Y=tf.placeholder(\"float\")\n",
    "W=tf.Variable(rng.rand())\n",
    "print(xx.shape,type(yy),W.shape)\n",
    "b=tf.Variable(rng.rand())\n",
    "\n",
    "Y_predicted = tf.add(tf.multiply(X,W),b)  # multiply matmul \n",
    "print(type(yy),type(Y_predicted))\n",
    "loss = tf.reduce_sum(tf.squared_difference(Y_predicted,Y))\n",
    "train = tf.train.GradientDescentOptimizer(0.001).minimize(loss)\n",
    "init=tf.global_variables_initializer()\n",
    "sess=tf.Session()\n",
    "sess.run(init)\n",
    "\n",
    "for i in range(100):\n",
    "    #sess.run(train)\n",
    "    #for (xxx,yyy) in  zip(xx,yy):\n",
    "        #sess.run(loss,feed_dict={X:xxx,Y:yyy})\n",
    "    sess.run(train,feed_dict={X:xx,Y:yy})\n",
    "    if i%10==0:\n",
    "        print(sess.run(W),sess.run(b))\n",
    "print('done')\n",
    "plt.plot(x,y,'bo')\n",
    "plt.plot(xx,sess.run(W)*xx+sess.run(b),label='Fittest line')\n",
    "plt.legend()\n",
    "plt.show()    \n",
    "\n",
    "\n"
   ]
  },
  {
   "cell_type": "markdown",
   "metadata": {},
   "source": [
    "##   "
   ]
  }
 ],
 "metadata": {
  "kernelspec": {
   "display_name": "Python 3",
   "language": "python",
   "name": "python3"
  },
  "language_info": {
   "codemirror_mode": {
    "name": "ipython",
    "version": 3
   },
   "file_extension": ".py",
   "mimetype": "text/x-python",
   "name": "python",
   "nbconvert_exporter": "python",
   "pygments_lexer": "ipython3",
   "version": "3.6.1"
  }
 },
 "nbformat": 4,
 "nbformat_minor": 2
}
