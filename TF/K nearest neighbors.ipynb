{
 "cells": [
  {
   "cell_type": "markdown",
   "metadata": {},
   "source": [
    "## K nearest neighbors"
   ]
  },
  {
   "cell_type": "code",
   "execution_count": 24,
   "metadata": {},
   "outputs": [
    {
     "name": "stdout",
     "output_type": "stream",
     "text": [
      "Extracting /tmp/data/train-images-idx3-ubyte.gz\n",
      "Extracting /tmp/data/train-labels-idx1-ubyte.gz\n",
      "Extracting /tmp/data/t10k-images-idx3-ubyte.gz\n",
      "Extracting /tmp/data/t10k-labels-idx1-ubyte.gz\n",
      "done!\n",
      "accuracy 923.0 len 1000\n",
      "0.923\n"
     ]
    }
   ],
   "source": [
    "import tensorflow as tf\n",
    "import numpy as np\n",
    "from tensorflow.examples.tutorials.mnist import input_data\n",
    "\n",
    "mnist = input_data.read_data_sets(\"/tmp/data/\",one_hot=True)\n",
    "\n",
    "# data for train/test\n",
    "Xtr,Ytr = mnist.train.next_batch(6000)  # the total nubmer of training samples is 60000 \n",
    "Xte,Yte = mnist.test.next_batch(1000)    # the total nubber of test samples is 10000\n",
    "# tf Graph imput\n",
    "xtr = tf.placeholder(\"float\",[None,784])\n",
    "xte = tf.placeholder(\"float\",[784])\n",
    "\n",
    "distance = tf.reduce_sum(tf.abs(tf.add(xtr,tf.negative(xte))),reduction_indices=1)\n",
    "\n",
    "pred = tf.argmin(distance,0)  # the index of the minimum\n",
    "\n",
    "accuracy = 0\n",
    "\n",
    "init=tf.global_variables_initializer()\n",
    "\n",
    "with tf.Session() as sess:\n",
    "    sess.run(init)\n",
    "    for i in range (len(Xte)):\n",
    "        nn_index = sess.run(pred,feed_dict={xtr:Xtr,xte:Xte[i,:]})\n",
    "        if np.argmax(Ytr[nn_index])==np.argmax(Yte[i]):\n",
    "            accuracy+=1.\n",
    "print(\"done!\")\n",
    "print(\"accuracy\",accuracy,\"len\",len(Xte))\n",
    "print(accuracy/len(Xte))\n",
    "\n",
    "\n"
   ]
  },
  {
   "cell_type": "code",
   "execution_count": null,
   "metadata": {
    "collapsed": true
   },
   "outputs": [],
   "source": []
  }
 ],
 "metadata": {
  "kernelspec": {
   "display_name": "Python 3",
   "language": "python",
   "name": "python3"
  },
  "language_info": {
   "codemirror_mode": {
    "name": "ipython",
    "version": 3
   },
   "file_extension": ".py",
   "mimetype": "text/x-python",
   "name": "python",
   "nbconvert_exporter": "python",
   "pygments_lexer": "ipython3",
   "version": "3.6.1"
  }
 },
 "nbformat": 4,
 "nbformat_minor": 2
}
