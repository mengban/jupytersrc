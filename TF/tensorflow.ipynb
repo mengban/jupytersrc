{
 "cells": [
  {
   "cell_type": "markdown",
   "metadata": {},
   "source": [
    "\n",
    "# lessson1\n",
    "- tensorflow是一个非常强大的用来做大规模计算的库。后端语言C++。其所擅长的任务之一就是实现以及训练深度神经网络。<br/>\n",
    "## MINIST入门\n",
    "- 占位符。在运行某一计算时根据占位符输入具体的值。\n",
    "- 交叉熵\n",
    "- 建立了拥有一个线性层的softmax回归模型。\n",
    "## MINIST进阶\n",
    "- 建立拥有多层卷积网络的softmax回归模型。\n",
    "- 权重w和 偏移b。y=wx+b\n",
    "- 定义好后模型和训练函数，用tf训练就很简单了。因为tf知道整个的计算图，它可以使用自动微分法找到对于各个变量损失的梯度。tf内部有大量内置的优化算法。 比如，使用最速下降法使交叉熵下降。\n",
    "- 创建扫尾复杂的神经网络模型：CNN来改善效果：需要创建大量权重和偏移项。\n",
    "- <font color=red>ReLU神经元。</font>\n",
    "- tf运作方式\n",
    "   - 1.准备数据\n",
    "   - 2.下载数据至代码\n",
    "   - 3.输入与占位符\n",
    "   - 4.构建图表\n",
    "   - 5.推理\n",
    "   - 6.损失\n",
    "   - 7.训练\n",
    "   - 8.训练模型\n",
    "   - 9.图表\n",
    "   - 10.会话\n",
    "   - 11.训练循环\n",
    "   - 12.向图表提供反馈\n",
    "   - 13.检查状态\n",
    "   - 14.状态可视化\n",
    "   - 15.保存检查点\n",
    "   - 16.评估模型\n",
    "   - 17.构建评估图表\n",
    "   - 18.评估图表输出\n",
    "   \n"
   ]
  },
  {
   "cell_type": "code",
   "execution_count": null,
   "metadata": {
    "collapsed": true
   },
   "outputs": [],
   "source": []
  }
 ],
 "metadata": {
  "kernelspec": {
   "display_name": "Python 3",
   "language": "python",
   "name": "python3"
  },
  "language_info": {
   "codemirror_mode": {
    "name": "ipython",
    "version": 3
   },
   "file_extension": ".py",
   "mimetype": "text/x-python",
   "name": "python",
   "nbconvert_exporter": "python",
   "pygments_lexer": "ipython3",
   "version": "3.6.1"
  }
 },
 "nbformat": 4,
 "nbformat_minor": 2
}
