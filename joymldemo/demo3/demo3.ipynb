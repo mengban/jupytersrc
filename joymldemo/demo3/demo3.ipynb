{
 "cells": [
  {
   "cell_type": "markdown",
   "metadata": {},
   "source": [
    "## 含有PL IPT BD"
   ]
  },
  {
   "cell_type": "code",
   "execution_count": 2,
   "metadata": {},
   "outputs": [
    {
     "name": "stdout",
     "output_type": "stream",
     "text": [
      "This is data_train <class 'numpy.ndarray'> (25954, 463)\n",
      "This is X_test <class 'numpy.ndarray'> (2596, 463)\n",
      "This is y_test <class 'numpy.ndarray'> (2596, 1)\n",
      "This cell has done...\n"
     ]
    }
   ],
   "source": [
    "import pandas as pd\n",
    "import numpy as np\n",
    "from sklearn import datasets, svm, metrics\n",
    "from sklearn import cross_validation\n",
    "import time\n",
    "def loaddata(Filename):\n",
    "    data = pd.read_csv(Filename,sep=',',header = None)\n",
    "    return np.array(data)\n",
    "# dataset\n",
    "data1 = loaddata(\"data0_3.csv\")\n",
    "data2 = loaddata(\"data1_3.csv\")\n",
    "data3 = loaddata(\"data2_3.csv\")\n",
    "data4 = loaddata(\"data3_3.csv\")\n",
    "data5 = loaddata(\"data4_3.csv\")\n",
    "\n",
    "data_train = np.vstack((data1[:len(data1)-1],data2[:len(data1)]))\n",
    "data_train = np.vstack((data_train,data3[:len(data1)]))\n",
    "data_train = np.vstack((data_train,data4[:len(data1)]))\n",
    "data_train = np.vstack((data_train,data5[:len(data1)]))\n",
    "\n",
    "print('This is data_train',type(data_train),data_train.shape)\n",
    "#label\n",
    "data1 = loaddata(\"label0_3.csv\")\n",
    "data2 = loaddata(\"label1_3.csv\")\n",
    "data3 = loaddata(\"label2_3.csv\")\n",
    "data4 = loaddata(\"label3_3.csv\")\n",
    "data5 = loaddata(\"label4_3.csv\")\n",
    "\n",
    "label_train = np.vstack((data1[:len(data1)-1],data2[:len(data1)]))\n",
    "label_train = np.vstack((label_train,data3[:len(data1)]))\n",
    "label_train = np.vstack((label_train,data4[:len(data1)]))\n",
    "label_train = np.vstack((label_train,data5[:len(data1)]))\n",
    "#print(label_test[100:800])\n",
    "X_train,X_test,y_train,y_test=cross_validation.train_test_split(data_train,label_train,test_size=0.1)\n",
    "\n",
    "print('This is X_test',type(X_test),X_test.shape)\n",
    "print('This is y_test',type(y_test),y_test.shape)\n",
    "print('This cell has done...')"
   ]
  },
  {
   "cell_type": "code",
   "execution_count": 3,
   "metadata": {},
   "outputs": [
    {
     "name": "stdout",
     "output_type": "stream",
     "text": [
      "Training starts...\n"
     ]
    },
    {
     "name": "stderr",
     "output_type": "stream",
     "text": [
      "/home/cadu/anaconda3/lib/python3.6/site-packages/sklearn/utils/validation.py:526: DataConversionWarning: A column-vector y was passed when a 1d array was expected. Please change the shape of y to (n_samples, ), for example using ravel().\n",
      "  y = column_or_1d(y, warn=True)\n"
     ]
    },
    {
     "name": "stdout",
     "output_type": "stream",
     "text": [
      "Train train total time is: 788.9964859485626\n",
      "Test starts...\n",
      "Classification report for classifier SVC(C=1.0, cache_size=200, class_weight=None, coef0=0.0,\n",
      "  decision_function_shape=None, degree=3, gamma=0.001, kernel='rbf',\n",
      "  max_iter=-1, probability=False, random_state=None, shrinking=True,\n",
      "  tol=0.001, verbose=False):\n",
      "             precision    recall  f1-score   support\n",
      "\n",
      "          0       0.99      0.62      0.76       513\n",
      "          1       0.75      0.73      0.74       524\n",
      "          2       0.50      1.00      0.67       520\n",
      "          3       0.97      0.74      0.84       514\n",
      "          4       0.96      0.61      0.75       525\n",
      "\n",
      "avg / total       0.83      0.74      0.75      2596\n",
      "\n",
      "\n",
      "Confusion matrix:\n",
      "[[316   0 189   0   8]\n",
      " [  0 384 128  10   2]\n",
      " [  0   0 520   0   0]\n",
      " [  0  79  53 380   2]\n",
      " [  2  51 151   1 320]]\n",
      "The test time is 24.87376379966736\n"
     ]
    }
   ],
   "source": [
    "#svm\n",
    "classifier = svm.SVC(gamma=0.001)\n",
    "\n",
    "timeStart=time.time()\n",
    "# learn\n",
    "print('Training starts...')\n",
    "classifier.fit(X_train, y_train)\n",
    "\n",
    "timeHalf=time.time()\n",
    "print('Train train total time is:',timeHalf-timeStart)\n",
    "#predicted\n",
    "\n",
    "print('Test starts...')\n",
    "expected =y_test\n",
    "predicted=classifier.predict(X_test)\n",
    "print(\"Classification report for classifier %s:\\n%s\\n\"\n",
    "      % (classifier, metrics.classification_report(expected, predicted)))\n",
    "print(\"Confusion matrix:\\n%s\" % metrics.confusion_matrix(expected, predicted))\n",
    "timeEnd=time.time()\n",
    "print('The test time is',timeEnd-timeHalf)"
   ]
  },
  {
   "cell_type": "code",
   "execution_count": null,
   "metadata": {
    "collapsed": true
   },
   "outputs": [],
   "source": []
  }
 ],
 "metadata": {
  "kernelspec": {
   "display_name": "Python 3",
   "language": "python",
   "name": "python3"
  },
  "language_info": {
   "codemirror_mode": {
    "name": "ipython",
    "version": 3
   },
   "file_extension": ".py",
   "mimetype": "text/x-python",
   "name": "python",
   "nbconvert_exporter": "python",
   "pygments_lexer": "ipython3",
   "version": "3.6.1"
  }
 },
 "nbformat": 4,
 "nbformat_minor": 2
}
