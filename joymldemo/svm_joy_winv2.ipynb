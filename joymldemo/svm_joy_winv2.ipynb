{
 "cells": [
  {
   "cell_type": "code",
   "execution_count": 10,
   "metadata": {
    "collapsed": true
   },
   "outputs": [],
   "source": [
    "import pandas as pd\n",
    "import numpy as np\n",
    "from sklearn import datasets, svm, metrics,\n",
    "from sklearn.cross_validation import train_test_split\n",
    "import time"
   ]
  },
  {
   "cell_type": "code",
   "execution_count": 11,
   "metadata": {},
   "outputs": [
    {
     "name": "stdout",
     "output_type": "stream",
     "text": [
      "This is data_train <class 'numpy.ndarray'> (12456, 661)\n",
      "This is data_test <class 'numpy.ndarray'> (37216, 661)\n",
      "This is label_train <class 'numpy.ndarray'> (12456, 1)\n",
      "This is label_test <class 'numpy.ndarray'> (37216, 1)\n"
     ]
    }
   ],
   "source": [
    "def loaddata(Filename):\n",
    "    data = pd.read_csv(Filename,sep=',',header = None)\n",
    "    return np.array(data)\n",
    "# dataset\n",
    "data1 = loaddata(\"demo1.csv\")\n",
    "data2 = loaddata(\"demo2.csv\")\n",
    "data3 = loaddata(\"demo3.csv\")\n",
    "\n",
    "data_train = np.vstack((data1[:int(len(data1)*0.8)],data2[:int(len(data1)*0.8)]))\n",
    "data_train = np.vstack((data_train,data3[:int(len(data1)*0.8)]))\n",
    "\n",
    "data_test = np.vstack((data1[int(len(data1)*0.8):len(data1)-2],data2[int(len(data2)*0.8):len(data2)-2]))\n",
    "data_test = np.vstack((data_test,data3[int(len(data3)*0.8):len(data3)-2]))\n",
    "\n",
    "print('This is data_train',type(data_train),data_train.shape)\n",
    "print('This is data_test',type(data_test),data_test.shape)\n",
    "#label\n",
    "data1 = loaddata(\"label1.csv\")\n",
    "data2 = loaddata(\"label2.csv\")\n",
    "data3 = loaddata(\"label3.csv\")\n",
    "\n",
    "label_train = np.vstack((data1[:int(len(data1)*0.8)],data2[:int(len(data1)*0.8)]))\n",
    "label_train = np.vstack((label_train,data3[:int(len(data1)*0.8)]))\n",
    "\n",
    "\n",
    "label_test = np.vstack((data1[int(len(data1)*0.8):len(data1)-2],data2[int(len(data2)*0.8):len(data2)-2]))\n",
    "label_test = np.vstack((label_test,data3[int(len(data3)*0.8):len(data3)-2]))\n",
    "#print(label_test[100:800])\n",
    "\n",
    "print('This is label_train',type(label_train),label_train.shape)\n",
    "print('This is label_test',type(label_test),label_test.shape)\n",
    "\n"
   ]
  },
  {
   "cell_type": "code",
   "execution_count": 13,
   "metadata": {},
   "outputs": [
    {
     "name": "stdout",
     "output_type": "stream",
     "text": [
      "Training starts...\n"
     ]
    },
    {
     "name": "stderr",
     "output_type": "stream",
     "text": [
      "d:\\program files\\python\\lib\\site-packages\\sklearn\\utils\\validation.py:547: DataConversionWarning: A column-vector y was passed when a 1d array was expected. Please change the shape of y to (n_samples, ), for example using ravel().\n",
      "  y = column_or_1d(y, warn=True)\n"
     ]
    },
    {
     "name": "stdout",
     "output_type": "stream",
     "text": [
      "Test starts...\n",
      "Classification report for classifier SVC(C=1.0, cache_size=200, class_weight=None, coef0=0.0,\n",
      "  decision_function_shape='ovr', degree=3, gamma=0.001, kernel='rbf',\n",
      "  max_iter=-1, probability=False, random_state=None, shrinking=True,\n",
      "  tol=0.001, verbose=False):\n",
      "             precision    recall  f1-score   support\n",
      "\n",
      "          1       0.03      1.00      0.05      1037\n",
      "          2       0.29      0.00      0.00     14352\n",
      "          3       1.00      0.00      0.00     21827\n",
      "\n",
      "avg / total       0.70      0.03      0.00     37216\n",
      "\n",
      "\n",
      "Confusion matrix:\n",
      "[[ 1037     0     0]\n",
      " [14350     2     0]\n",
      " [21821     5     1]]\n",
      "The total time is 474.3523256778717\n"
     ]
    }
   ],
   "source": [
    "#svm\n",
    "classifier = svm.SVC(gamma=0.001)\n",
    "\n",
    "timeStart=time.time()\n",
    "# learn\n",
    "print('Training starts...')\n",
    "classifier.fit(data_train, label_train)\n",
    "\n",
    "#predicted\n",
    "\n",
    "print('Test starts...')\n",
    "expected =label_test\n",
    "predicted=classifier.predict(data_test)\n",
    "print(\"Classification report for classifier %s:\\n%s\\n\"\n",
    "      % (classifier, metrics.classification_report(expected, predicted)))\n",
    "print(\"Confusion matrix:\\n%s\" % metrics.confusion_matrix(expected, predicted))\n",
    "timeEnd=time.time()\n",
    "print('The total time is',timeEnd-timeStart)"
   ]
  },
  {
   "cell_type": "code",
   "execution_count": 9,
   "metadata": {},
   "outputs": [
    {
     "name": "stdout",
     "output_type": "stream",
     "text": [
      "[  0.00000000e+00   1.00000000e+00   2.00000000e+00 ...,   1.24530000e+04\n",
      "   1.24540000e+04   1.24550000e+04] (12456,)\n"
     ]
    },
    {
     "ename": "AttributeError",
     "evalue": "'NoneType' object has no attribute 'shape'",
     "output_type": "error",
     "traceback": [
      "\u001b[1;31m---------------------------------------------------------------------------\u001b[0m",
      "\u001b[1;31mAttributeError\u001b[0m                            Traceback (most recent call last)",
      "\u001b[1;32m<ipython-input-9-cd713c71edcd>\u001b[0m in \u001b[0;36m<module>\u001b[1;34m()\u001b[0m\n\u001b[0;32m      6\u001b[0m \u001b[0mprint\u001b[0m\u001b[1;33m(\u001b[0m\u001b[0ma\u001b[0m\u001b[1;33m,\u001b[0m\u001b[0ma\u001b[0m\u001b[1;33m.\u001b[0m\u001b[0mshape\u001b[0m\u001b[1;33m)\u001b[0m\u001b[1;33m\u001b[0m\u001b[0m\n\u001b[0;32m      7\u001b[0m \u001b[0mb\u001b[0m\u001b[1;33m=\u001b[0m\u001b[0mrandom\u001b[0m\u001b[1;33m.\u001b[0m\u001b[0mshuffle\u001b[0m\u001b[1;33m(\u001b[0m\u001b[0ma\u001b[0m\u001b[1;33m)\u001b[0m\u001b[1;33m\u001b[0m\u001b[0m\n\u001b[1;32m----> 8\u001b[1;33m \u001b[0mprint\u001b[0m\u001b[1;33m(\u001b[0m\u001b[0mb\u001b[0m\u001b[1;33m.\u001b[0m\u001b[0mshape\u001b[0m\u001b[1;33m)\u001b[0m\u001b[1;33m\u001b[0m\u001b[0m\n\u001b[0m",
      "\u001b[1;31mAttributeError\u001b[0m: 'NoneType' object has no attribute 'shape'"
     ]
    }
   ],
   "source": [
    "import random\n",
    "import numpy as np\n",
    "a=np.random.rand(12456)\n",
    "for i in range(0,12456):\n",
    "    a[i]=i\n",
    "print(a,a.shape)\n",
    "b=random.shuffle(a)\n",
    "print(b.shape)\n"
   ]
  },
  {
   "cell_type": "code",
   "execution_count": 3,
   "metadata": {},
   "outputs": [
    {
     "name": "stdout",
     "output_type": "stream",
     "text": [
      "This is data_train <class 'numpy.ndarray'> (25954, 661)\n",
      "This is X_test <class 'numpy.ndarray'> (2596, 661)\n",
      "This is y_test <class 'numpy.ndarray'> (2596, 1)\n"
     ]
    }
   ],
   "source": [
    "import pandas as pd\n",
    "import numpy as np\n",
    "from sklearn import datasets, svm, metrics\n",
    "from sklearn import cross_validation\n",
    "import time\n",
    "def loaddata(Filename):\n",
    "    data = pd.read_csv(Filename,sep=',',header = None)\n",
    "    return np.array(data)\n",
    "# dataset\n",
    "data1 = loaddata(\"demo1.csv\")\n",
    "data2 = loaddata(\"demo2.csv\")\n",
    "data3 = loaddata(\"demo3.csv\")\n",
    "data4 = loaddata(\"demo4.csv\")\n",
    "data5 = loaddata(\"demo5.csv\")\n",
    "\n",
    "data_train = np.vstack((data1[:len(data1)-1],data2[:len(data1)]))\n",
    "data_train = np.vstack((data_train,data3[:len(data1)]))\n",
    "data_train = np.vstack((data_train,data4[:len(data1)]))\n",
    "data_train = np.vstack((data_train,data5[:len(data1)]))\n",
    "\n",
    "print('This is data_train',type(data_train),data_train.shape)\n",
    "#label\n",
    "data1 = loaddata(\"label1.csv\")\n",
    "data2 = loaddata(\"label2.csv\")\n",
    "data3 = loaddata(\"label3.csv\")\n",
    "data4 = loaddata(\"label4.csv\")\n",
    "data5 = loaddata(\"label5.csv\")\n",
    "\n",
    "label_train = np.vstack((data1[:len(data1)-1],data2[:len(data1)]))\n",
    "label_train = np.vstack((label_train,data3[:len(data1)]))\n",
    "label_train = np.vstack((label_train,data4[:len(data1)]))\n",
    "label_train = np.vstack((label_train,data5[:len(data1)]))\n",
    "#print(label_test[100:800])\n",
    "X_train,X_test,y_train,y_test=cross_validation.train_test_split(data_train,label_train,test_size=0.1)\n",
    "\n",
    "print('This is X_test',type(X_test),X_test.shape)\n",
    "print('This is y_test',type(y_test),y_test.shape)"
   ]
  },
  {
   "cell_type": "code",
   "execution_count": 4,
   "metadata": {},
   "outputs": [
    {
     "name": "stdout",
     "output_type": "stream",
     "text": [
      "Training starts...\n"
     ]
    },
    {
     "name": "stderr",
     "output_type": "stream",
     "text": [
      "/home/cadu/anaconda3/lib/python3.6/site-packages/sklearn/utils/validation.py:526: DataConversionWarning: A column-vector y was passed when a 1d array was expected. Please change the shape of y to (n_samples, ), for example using ravel().\n",
      "  y = column_or_1d(y, warn=True)\n"
     ]
    },
    {
     "name": "stdout",
     "output_type": "stream",
     "text": [
      "Train train total time is: 908.923876285553\n",
      "Test starts...\n",
      "Classification report for classifier SVC(C=1.0, cache_size=200, class_weight=None, coef0=0.0,\n",
      "  decision_function_shape=None, degree=3, gamma=0.001, kernel='rbf',\n",
      "  max_iter=-1, probability=False, random_state=None, shrinking=True,\n",
      "  tol=0.001, verbose=False):\n",
      "             precision    recall  f1-score   support\n",
      "\n",
      "          0       0.99      0.64      0.78       527\n",
      "          1       0.77      0.74      0.76       527\n",
      "          2       0.98      0.66      0.79       519\n",
      "          3       0.97      0.75      0.85       522\n",
      "          4       0.50      1.00      0.67       501\n",
      "\n",
      "avg / total       0.85      0.76      0.77      2596\n",
      "\n",
      "\n",
      "Confusion matrix:\n",
      "[[338   0   5   0 184]\n",
      " [  0 391   2  12 122]\n",
      " [  3  50 342   1 123]\n",
      " [  0  66   1 392  63]\n",
      " [  0   0   0   0 501]]\n",
      "The test time is 32.218891620635986\n"
     ]
    }
   ],
   "source": [
    "#svm\n",
    "classifier = svm.SVC(gamma=0.001)\n",
    "\n",
    "timeStart=time.time()\n",
    "# learn\n",
    "print('Training starts...')\n",
    "classifier.fit(X_train, y_train)\n",
    "\n",
    "timeHalf=time.time()\n",
    "print('Train train total time is:',timeHalf-timeStart)\n",
    "#predicted\n",
    "\n",
    "print('Test starts...')\n",
    "expected =y_test\n",
    "predicted=classifier.predict(X_test)\n",
    "print(\"Classification report for classifier %s:\\n%s\\n\"\n",
    "      % (classifier, metrics.classification_report(expected, predicted)))\n",
    "print(\"Confusion matrix:\\n%s\" % metrics.confusion_matrix(expected, predicted))\n",
    "timeEnd=time.time()\n",
    "print('The test time is',timeEnd-timeHalf)"
   ]
  },
  {
   "cell_type": "markdown",
   "metadata": {
    "collapsed": true
   },
   "source": [
    "## notebook\n",
    "- 精度(precision) = 正确预测的个数(TP)/被预测正确的个数(TP+FP)\n",
    "- 召回率(recall)=正确预测的个数(TP)/预测个数(TP+FN)\n",
    "- F1 = 2*精度*召回率/(精度+召回率)"
   ]
  }
 ],
 "metadata": {
  "kernelspec": {
   "display_name": "Python 3",
   "language": "python",
   "name": "python3"
  },
  "language_info": {
   "codemirror_mode": {
    "name": "ipython",
    "version": 3
   },
   "file_extension": ".py",
   "mimetype": "text/x-python",
   "name": "python",
   "nbconvert_exporter": "python",
   "pygments_lexer": "ipython3",
   "version": "3.6.1"
  }
 },
 "nbformat": 4,
 "nbformat_minor": 2
}
