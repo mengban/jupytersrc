{
 "cells": [
  {
   "cell_type": "markdown",
   "metadata": {},
   "source": [
    "## 仅含有BD"
   ]
  },
  {
   "cell_type": "code",
   "execution_count": 1,
   "metadata": {},
   "outputs": [
    {
     "name": "stderr",
     "output_type": "stream",
     "text": [
      "/home/cadu/anaconda3/lib/python3.6/site-packages/sklearn/cross_validation.py:44: DeprecationWarning: This module was deprecated in version 0.18 in favor of the model_selection module into which all the refactored classes and functions are moved. Also note that the interface of the new CV iterators are different from that of this module. This module will be removed in 0.20.\n",
      "  \"This module will be removed in 0.20.\", DeprecationWarning)\n"
     ]
    },
    {
     "name": "stdout",
     "output_type": "stream",
     "text": [
      "This is data_train <class 'numpy.ndarray'> (25954, 256)\n",
      "This is X_test <class 'numpy.ndarray'> (2596, 256)\n",
      "This is y_test <class 'numpy.ndarray'> (2596, 1)\n",
      "This cell has done...\n"
     ]
    }
   ],
   "source": [
    "import pandas as pd\n",
    "import numpy as np\n",
    "from sklearn import datasets, svm, metrics\n",
    "from sklearn import cross_validation\n",
    "import time\n",
    "def loaddata(Filename):\n",
    "    data = pd.read_csv(Filename,sep=',',header = None)\n",
    "    return np.array(data)\n",
    "# dataset\n",
    "data1 = loaddata(\"data0_4.csv\")\n",
    "data2 = loaddata(\"data1_4.csv\")\n",
    "data3 = loaddata(\"data2_4.csv\")\n",
    "data4 = loaddata(\"data3_4.csv\")\n",
    "data5 = loaddata(\"data4_4.csv\")\n",
    "\n",
    "data_train = np.vstack((data1[:len(data1)-1],data2[:len(data1)]))\n",
    "data_train = np.vstack((data_train,data3[:len(data1)]))\n",
    "data_train = np.vstack((data_train,data4[:len(data1)]))\n",
    "data_train = np.vstack((data_train,data5[:len(data1)]))\n",
    "\n",
    "print('This is data_train',type(data_train),data_train.shape)\n",
    "#label\n",
    "data1 = loaddata(\"label0_4.csv\")\n",
    "data2 = loaddata(\"label1_4.csv\")\n",
    "data3 = loaddata(\"label2_4.csv\")\n",
    "data4 = loaddata(\"label3_4.csv\")\n",
    "data5 = loaddata(\"label4_4.csv\")\n",
    "\n",
    "label_train = np.vstack((data1[:len(data1)-1],data2[:len(data1)]))\n",
    "label_train = np.vstack((label_train,data3[:len(data1)]))\n",
    "label_train = np.vstack((label_train,data4[:len(data1)]))\n",
    "label_train = np.vstack((label_train,data5[:len(data1)]))\n",
    "#print(label_test[100:800])\n",
    "X_train,X_test,y_train,y_test=cross_validation.train_test_split(data_train,label_train,test_size=0.1)\n",
    "\n",
    "print('This is X_test',type(X_test),X_test.shape)\n",
    "print('This is y_test',type(y_test),y_test.shape)\n",
    "print('This cell has done...')"
   ]
  },
  {
   "cell_type": "code",
   "execution_count": 2,
   "metadata": {},
   "outputs": [
    {
     "name": "stdout",
     "output_type": "stream",
     "text": [
      "Training starts...\n"
     ]
    },
    {
     "name": "stderr",
     "output_type": "stream",
     "text": [
      "/home/cadu/anaconda3/lib/python3.6/site-packages/sklearn/utils/validation.py:526: DataConversionWarning: A column-vector y was passed when a 1d array was expected. Please change the shape of y to (n_samples, ), for example using ravel().\n",
      "  y = column_or_1d(y, warn=True)\n"
     ]
    },
    {
     "name": "stdout",
     "output_type": "stream",
     "text": [
      "Train train total time is: 413.53499388694763\n",
      "Test starts...\n",
      "Classification report for classifier SVC(C=1.0, cache_size=200, class_weight=None, coef0=0.0,\n",
      "  decision_function_shape=None, degree=3, gamma=0.001, kernel='rbf',\n",
      "  max_iter=-1, probability=False, random_state=None, shrinking=True,\n",
      "  tol=0.001, verbose=False):\n",
      "             precision    recall  f1-score   support\n",
      "\n",
      "          0       0.00      0.00      0.00       508\n",
      "          1       0.00      0.00      0.00       504\n",
      "          2       0.19      1.00      0.32       501\n",
      "          3       0.00      0.00      0.00       540\n",
      "          4       0.00      0.00      0.00       543\n",
      "\n",
      "avg / total       0.04      0.19      0.06      2596\n",
      "\n",
      "\n",
      "Confusion matrix:\n",
      "[[  0   0 508   0   0]\n",
      " [  0   0 504   0   0]\n",
      " [  0   0 501   0   0]\n",
      " [  0   0 540   0   0]\n",
      " [  0   0 543   0   0]]\n",
      "The test time is 19.121323108673096\n"
     ]
    },
    {
     "name": "stderr",
     "output_type": "stream",
     "text": [
      "/home/cadu/anaconda3/lib/python3.6/site-packages/sklearn/metrics/classification.py:1113: UndefinedMetricWarning: Precision and F-score are ill-defined and being set to 0.0 in labels with no predicted samples.\n",
      "  'precision', 'predicted', average, warn_for)\n"
     ]
    }
   ],
   "source": [
    "#svm\n",
    "classifier = svm.SVC(gamma=0.001)\n",
    "\n",
    "timeStart=time.time()\n",
    "# learn\n",
    "print('Training starts...')\n",
    "classifier.fit(X_train, y_train)\n",
    "\n",
    "timeHalf=time.time()\n",
    "print('Train train total time is:',timeHalf-timeStart)\n",
    "#predicted\n",
    "\n",
    "print('Test starts...')\n",
    "expected =y_test\n",
    "predicted=classifier.predict(X_test)\n",
    "print(\"Classification report for classifier %s:\\n%s\\n\"\n",
    "      % (classifier, metrics.classification_report(expected, predicted)))\n",
    "print(\"Confusion matrix:\\n%s\" % metrics.confusion_matrix(expected, predicted))\n",
    "timeEnd=time.time()\n",
    "print('The test time is',timeEnd-timeHalf)"
   ]
  },
  {
   "cell_type": "code",
   "execution_count": null,
   "metadata": {
    "collapsed": true
   },
   "outputs": [],
   "source": []
  }
 ],
 "metadata": {
  "kernelspec": {
   "display_name": "Python 3",
   "language": "python",
   "name": "python3"
  },
  "language_info": {
   "codemirror_mode": {
    "name": "ipython",
    "version": 3
   },
   "file_extension": ".py",
   "mimetype": "text/x-python",
   "name": "python",
   "nbconvert_exporter": "python",
   "pygments_lexer": "ipython3",
   "version": "3.6.1"
  }
 },
 "nbformat": 4,
 "nbformat_minor": 2
}
