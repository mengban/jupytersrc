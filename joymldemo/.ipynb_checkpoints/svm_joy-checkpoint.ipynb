{
 "cells": [
  {
   "cell_type": "code",
   "execution_count": 1,
   "metadata": {
    "collapsed": true
   },
   "outputs": [],
   "source": [
    "import pandas as pd\n",
    "import numpy as np\n",
    "import pandas as pd\n",
    "from sklearn import datasets, svm, metrics\n",
    "import time"
   ]
  },
  {
   "cell_type": "code",
   "execution_count": 3,
   "metadata": {},
   "outputs": [
    {
     "name": "stdout",
     "output_type": "stream",
     "text": [
      "This is data_train <class 'numpy.ndarray'> (148876, 661)\n",
      "This is data_test <class 'numpy.ndarray'> (37216, 661)\n",
      "[[1]\n",
      " [1]\n",
      " [1]\n",
      " ..., \n",
      " [3]\n",
      " [3]\n",
      " [3]]\n",
      "This is label_train <class 'numpy.ndarray'> (148876, 1)\n",
      "This is label_test <class 'numpy.ndarray'> (37216, 1)\n"
     ]
    }
   ],
   "source": [
    "def loaddata(Filename):\n",
    "    data = pd.read_csv(Filename,sep=',',header = None)\n",
    "    return np.array(data)\n",
    "# dataset\n",
    "arg=0.8\n",
    "data1 = loaddata(\"demo1.csv\")\n",
    "data2 = loaddata(\"demo2.csv\")\n",
    "data3 = loaddata(\"demo3.csv\")\n",
    "\n",
    "data_train = np.vstack((data1[:int(len(data1)*arg)],data2[:int(len(data2)*arg)]))\n",
    "data_train = np.vstack((data_train,data3[:int(len(data3)*arg)]))\n",
    "data_train_= data_train.reshape((len(data_train),-1))\n",
    "\n",
    "data_test = np.vstack((data1[int(len(data1)*arg):len(data1)-2],data2[int(len(data2)*arg):len(data2)-2]))\n",
    "data_test = np.vstack((data_test,data3[int(len(data3)*arg):len(data3)-2]))\n",
    "data_test_= data_test.reshape((len(data_test),-1))\n",
    "#print(data_test)\n",
    "\n",
    "\n",
    "print('This is data_train_',type(data_train),data_train_.shape)\n",
    "print('This is data_test_',type(data_test),data_test_.shape)\n",
    "#label\n",
    "data1 = loaddata(\"label1.csv\")\n",
    "data2 = loaddata(\"label2.csv\")\n",
    "data3 = loaddata(\"label3.csv\")\n",
    "\n",
    "label_train = np.vstack((data1[:int(len(data1)*arg)],data2[:int(len(data2)*arg)]))\n",
    "label_train = np.vstack((label_train,data3[:int(len(data3)*arg)]))\n",
    "target_train = label_train.reshape((len(label_train),-1))\n",
    "#label_train = label_train.values.ravel()\n",
    "\n",
    "\n",
    "label_test = np.vstack((data1[int(len(data1)*arg):len(data1)-2],data2[int(len(data2)*arg):len(data2)-2]))\n",
    "label_test = np.vstack((label_test,data3[int(len(data3)*arg):len(data3)-2]))\n",
    "target_test = label_test.reshape((len(label_test),-1))                                 \n",
    "print(target_test)\n",
    "#label_test = label_train.values.ravel()\n",
    "#print(np.where(label_test[:,0] == 1),np.argwhere(label_test[:,0] == 2),np.where(label_test[:,0] == 3))\n",
    "\n",
    "print('This is target_train',type(target_train),target_train.shape)\n",
    "print('This is target_test',type(target_test),target_test.shape)\n",
    "\n"
   ]
  },
  {
   "cell_type": "code",
   "execution_count": null,
   "metadata": {},
   "outputs": [
    {
     "name": "stdout",
     "output_type": "stream",
     "text": [
      "Training starts...\n"
     ]
    },
    {
     "name": "stderr",
     "output_type": "stream",
     "text": [
      "/home/cadu/anaconda3/lib/python3.6/site-packages/sklearn/utils/validation.py:526: DataConversionWarning: A column-vector y was passed when a 1d array was expected. Please change the shape of y to (n_samples, ), for example using ravel().\n",
      "  y = column_or_1d(y, warn=True)\n"
     ]
    }
   ],
   "source": [
    "#svm\n",
    "classifier = svm.SVC(gamma=0.001)\n",
    "\n",
    "# learn\n",
    "print('Training starts...')\n",
    "classifier.fit(data_train_,target_train)\n",
    "\n",
    "#predicted\n",
    "timeStart=time.time\n",
    "print('Test starts...')\n",
    "expected =target_test\n",
    "predicted=classifier.predict(data_test_)\n",
    "print(\"Classification report for classifier %s:\\n%s\\n\"\n",
    "      % (classifier, metrics.classification_report(expected, predicted)))\n",
    "print(\"Confusion matrix:\\n%s\" % metrics.confusion_matrix(expected, predicted))\n",
    "timeEnd=time.time\n",
    "print('The cost time is:',timeEnd-timeStart)"
   ]
  },
  {
   "cell_type": "code",
   "execution_count": null,
   "metadata": {
    "collapsed": true
   },
   "outputs": [],
   "source": []
  }
 ],
 "metadata": {
  "kernelspec": {
   "display_name": "Python 3",
   "language": "python",
   "name": "python3"
  },
  "language_info": {
   "codemirror_mode": {
    "name": "ipython",
    "version": 3
   },
   "file_extension": ".py",
   "mimetype": "text/x-python",
   "name": "python",
   "nbconvert_exporter": "python",
   "pygments_lexer": "ipython3",
   "version": "3.6.1"
  }
 },
 "nbformat": 4,
 "nbformat_minor": 2
}
