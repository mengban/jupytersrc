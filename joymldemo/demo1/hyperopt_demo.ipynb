{
 "cells": [
  {
   "cell_type": "code",
   "execution_count": 3,
   "metadata": {},
   "outputs": [
    {
     "name": "stdout",
     "output_type": "stream",
     "text": [
      "{'c2': 0.014142202716595165, 'a': 1}\n",
      "('case 2', 0.014142202716595165)\n"
     ]
    }
   ],
   "source": [
    "# define an objective function\n",
    "def objective(args):\n",
    "    case, val = args\n",
    "    if case == 'case 1':\n",
    "        return val\n",
    "    else:\n",
    "        return val ** 2\n",
    "\n",
    "# define a search space\n",
    "from hyperopt import hp\n",
    "space = hp.choice('a',\n",
    "    [\n",
    "        ('case 1', 1 + hp.lognormal('c1', 0, 1)),\n",
    "        ('case 2', hp.uniform('c2', -10, 10))\n",
    "    ])\n",
    "\n",
    "# minimize the objective over the space\n",
    "from hyperopt import fmin, tpe\n",
    "best = fmin(objective, space, algo=tpe.suggest, max_evals=100)\n",
    "\n",
    "print (best)\n",
    "# -> {'a': 1, 'c2': 0.01420615366247227}\n",
    "import hyperopt\n",
    "print (hyperopt.space_eval(space, best))\n",
    "# -> ('case 2', 0.01420615366247227}"
   ]
  },
  {
   "cell_type": "code",
   "execution_count": 43,
   "metadata": {},
   "outputs": [
    {
     "name": "stdout",
     "output_type": "stream",
     "text": [
      "{'y': 1.1262610541169784, 'x': 0.069900292263162, 'z': 2.000889808860955}\n",
      "(0.069900292263162, 1.1262610541169784, 2.000889808860955)\n"
     ]
    }
   ],
   "source": [
    "from hyperopt import hp, fmin, rand, tpe, space_eval,anneal\n",
    "def q (args) :\n",
    "    x,y,z = args\n",
    "    return x + y**2 + z**3\n",
    "space = [hp.uniform('x', 0, 1), hp.uniform('y', 1, 2),hp.uniform('z',2,3)]\n",
    "\n",
    "\n",
    "#best = fmin(q,space,algo=rand.suggest,max_evals=100)    #最大尝试次数\n",
    "best = fmin(q,space,algo=tpe.suggest,max_evals=100)    #最大尝试次数\n",
    "print(best)\n",
    "print (space_eval(space, best))\n"
   ]
  },
  {
   "cell_type": "code",
   "execution_count": null,
   "metadata": {},
   "outputs": [],
   "source": []
  },
  {
   "cell_type": "code",
   "execution_count": null,
   "metadata": {},
   "outputs": [],
   "source": []
  },
  {
   "cell_type": "code",
   "execution_count": null,
   "metadata": {},
   "outputs": [],
   "source": []
  }
 ],
 "metadata": {
  "kernelspec": {
   "display_name": "Python 3",
   "language": "python",
   "name": "python3"
  },
  "language_info": {
   "codemirror_mode": {
    "name": "ipython",
    "version": 3
   },
   "file_extension": ".py",
   "mimetype": "text/x-python",
   "name": "python",
   "nbconvert_exporter": "python",
   "pygments_lexer": "ipython3",
   "version": "3.5.2"
  }
 },
 "nbformat": 4,
 "nbformat_minor": 2
}
