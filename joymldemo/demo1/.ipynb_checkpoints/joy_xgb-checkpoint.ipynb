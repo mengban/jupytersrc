{
 "cells": [
  {
   "cell_type": "code",
   "execution_count": 5,
   "metadata": {},
   "outputs": [
    {
     "name": "stdout",
     "output_type": "stream",
     "text": [
      "This is data_train <class 'numpy.ndarray'> (25954, 661)\n",
      "This is test_X <class 'numpy.ndarray'> (2596, 661)\n",
      "This is test_Y <class 'numpy.ndarray'> (2596, 1)\n",
      "This cell has done...\n"
     ]
    }
   ],
   "source": [
    "import pandas as pd\n",
    "import numpy as np\n",
    "from sklearn import datasets, svm, metrics\n",
    "from sklearn import cross_validation\n",
    "import xgboost as xgb\n",
    "import time\n",
    "import matplotlib.pyplot as plt\n",
    "%matplotlib inline\n",
    "def loaddata(Filename):\n",
    "    data = pd.read_csv(Filename,sep=',',header = None)\n",
    "    return np.array(data)\n",
    "# dataset\n",
    "data1 = loaddata(\"data0_1.csv\")\n",
    "data2 = loaddata(\"data1_1.csv\")\n",
    "data3 = loaddata(\"data2_1.csv\")\n",
    "data4 = loaddata(\"data3_1.csv\")\n",
    "data5 = loaddata(\"data4_1.csv\")\n",
    "\n",
    "data_train = np.vstack((data1[:len(data1)-1],data2[:len(data1)]))\n",
    "data_train = np.vstack((data_train,data3[:len(data1)]))\n",
    "data_train = np.vstack((data_train,data4[:len(data1)]))\n",
    "data_train = np.vstack((data_train,data5[:len(data1)]))\n",
    "\n",
    "print('This is data_train',type(data_train),data_train.shape)\n",
    "#label\n",
    "data1 = loaddata(\"label0_1.csv\")\n",
    "data2 = loaddata(\"label1_1.csv\")\n",
    "data3 = loaddata(\"label2_1.csv\")\n",
    "data4 = loaddata(\"label3_1.csv\")\n",
    "data5 = loaddata(\"label4_1.csv\")\n",
    "\n",
    "label_train = np.vstack((data1[:len(data1)-1],data2[:len(data1)]))\n",
    "label_train = np.vstack((label_train,data3[:len(data1)]))\n",
    "label_train = np.vstack((label_train,data4[:len(data1)]))\n",
    "label_train = np.vstack((label_train,data5[:len(data1)]))\n",
    "#print(label_test[100:800])\n",
    "train_X,test_X,train_Y,test_Y=cross_validation.train_test_split(data_train,label_train,test_size=0.1)\n",
    "\n",
    "print('This is test_X',type(test_X),test_X.shape)\n",
    "print('This is test_Y',type(test_Y),test_Y.shape)\n",
    "print('This cell has done...')"
   ]
  },
  {
   "cell_type": "code",
   "execution_count": 28,
   "metadata": {},
   "outputs": [
    {
     "name": "stdout",
     "output_type": "stream",
     "text": [
      "[0]\ttrain-merror:0.05908\ttest-merror:0.0651\n",
      "[1]\ttrain-merror:0.057368\ttest-merror:0.066256\n",
      "[2]\ttrain-merror:0.056854\ttest-merror:0.066256\n",
      "[3]\ttrain-merror:0.05664\ttest-merror:0.067026\n",
      "[4]\ttrain-merror:0.056126\ttest-merror:0.066641\n",
      "[5]\ttrain-merror:0.055784\ttest-merror:0.065485\n",
      "[6]\ttrain-merror:0.055356\ttest-merror:0.0651\n",
      "[7]\ttrain-merror:0.055056\ttest-merror:0.06433\n",
      "[8]\ttrain-merror:0.054756\ttest-merror:0.064715\n",
      "[9]\ttrain-merror:0.054585\ttest-merror:0.06433\n",
      "[ 3.  3.  3. ...,  2.  0.  3.]\n",
      "predicting, classification error=0.064330\n"
     ]
    }
   ],
   "source": [
    "xg_train = xgb.DMatrix( train_X, label=train_Y)\n",
    "xg_test = xgb.DMatrix(test_X, label=test_Y)\n",
    "# setup parameters for xgboost\n",
    "param = {}\n",
    "# use softmax multi-class classification\n",
    "param['objective'] = 'multi:softmax'\n",
    "# scale weight of positive examples\n",
    "param['eta'] = 0.3\n",
    "param['max_depth'] = 6\n",
    "param['silent'] = 1\n",
    "param['nthread'] = 12\n",
    "param['num_class'] = 5\n",
    "watchlist = [ (xg_train,'train'), (xg_test, 'test') ]\n",
    "num_round = 10     ## boosting迭代计算次数\n",
    "bst = xgb.train(param, xg_train, num_round, watchlist );\n",
    "# get prediction\n",
    "pred = bst.predict( xg_test );\n",
    "print(pred)\n",
    "\n",
    "print ('predicting, classification error=%f' \n",
    "       % (sum( int(pred[i]) != test_Y[i] for i in range(len(test_Y))) / float(len(test_Y)) ))\n",
    "\n"
   ]
  },
  {
   "cell_type": "code",
   "execution_count": 21,
   "metadata": {},
   "outputs": [
    {
     "name": "stdout",
     "output_type": "stream",
     "text": [
      "eta= 0.1 ------error rate-------\n",
      "eta= 0.2 ------error rate-------\n",
      "eta= 0.3 ------error rate-------\n",
      "eta= 0.4 ------error rate-------\n",
      "eta= 0.5 ------error rate-------\n",
      "eta= 0.6 ------error rate-------\n",
      "eta= 0.7 ------error rate-------\n",
      "eta= 0.8 ------error rate-------\n",
      "eta= 0.9 ------error rate-------\n",
      "eta= 1.0 ------error rate-------\n",
      "[array([ 0.06587057]), array([ 0.06625578]), array([ 0.06471495]), array([ 0.06432974]), array([ 0.06394453]), array([ 0.06510015]), array([ 0.06471495]), array([ 0.06587057]), array([ 0.06548536]), array([ 0.06702619])]\n"
     ]
    },
    {
     "data": {
      "image/png": "[encoded data removed]",
      "text/plain": [
       "<matplotlib.figure.Figure at 0x7f52447fed68>"
      ]
     },
     "metadata": {},
     "output_type": "display_data"
    }
   ],
   "source": [
    "# learning_rate  0.4 best 0.06432974\n",
    "\n",
    "param['eta'] = 0.1\n",
    "param['max_depth'] = 8\n",
    "param['silent'] = 1\n",
    "param['nthread'] = 12\n",
    "param['num_class'] = 5\n",
    "\n",
    "error=[]\n",
    "for i in range (1,11):\n",
    "    param['eta'] = i/10\n",
    "    bst = xgb.train(param, xg_train, num_round );\n",
    "    # get prediction\n",
    "    pred = bst.predict( xg_test );\n",
    "    error.append((sum( int(pred[i]) != test_Y[i] for i in range(len(test_Y))) / float(len(test_Y)) ))\n",
    "    print('eta=',i/10,'------error rate-------')\n",
    "print(error)\n",
    "plt.plot(error,label='error-rate')\n",
    "plt.legend()\n",
    "plt.show()\n",
    "    \n",
    "    "
   ]
  },
  {
   "cell_type": "code",
   "execution_count": 32,
   "metadata": {},
   "outputs": [
    {
     "name": "stdout",
     "output_type": "stream",
     "text": [
      "gamma= 0.1 ------error rate-------\n",
      "gamma= 0.2 ------error rate-------\n",
      "gamma= 0.3 ------error rate-------\n",
      "gamma= 0.4 ------error rate-------\n",
      "gamma= 0.5 ------error rate-------\n",
      "gamma= 0.6 ------error rate-------\n",
      "gamma= 0.7 ------error rate-------\n",
      "gamma= 0.8 ------error rate-------\n",
      "gamma= 0.9 ------error rate-------\n",
      "[array([ 0.06432974]), array([ 0.06394453]), array([ 0.06201849]), array([ 0.06201849]), array([ 0.06278891]), array([ 0.06317411]), array([ 0.06278891]), array([ 0.06432974]), array([ 0.06394453])]\n"
     ]
    },
    {
     "data": {
      "image/png": "[encoded data removed]",
      "text/plain": [
       "<matplotlib.figure.Figure at 0x7f523d4c1588>"
      ]
     },
     "metadata": {},
     "output_type": "display_data"
    }
   ],
   "source": [
    "# gamma=0.2 best  eta=0.4 max_depth=10   .06201849\n",
    "param = {}\n",
    "param['eta'] = 0.4\n",
    "param['max_depth'] = 10\n",
    "param['silent'] = 1\n",
    "param['nthread'] = 12\n",
    "param['num_class'] = 5\n",
    "error=[]\n",
    "for i in range (1,10):\n",
    "    print('gamma=',i/10,'------error rate-------')\n",
    "    param['gamma'] = i/10\n",
    "    bst = xgb.train(param, xg_train, num_round);\n",
    "    # get prediction\n",
    "    pred = bst.predict( xg_test );\n",
    "    error.append((sum( int(pred[i]) != test_Y[i] for i in range(len(test_Y))) / float(len(test_Y)) ))\n",
    "print(error)\n",
    "plt.plot(error,label='error-rate')\n",
    "plt.legend()\n",
    "plt.show()\n",
    "\n",
    "    "
   ]
  },
  {
   "cell_type": "code",
   "execution_count": null,
   "metadata": {},
   "outputs": [
    {
     "name": "stdout",
     "output_type": "stream",
     "text": [
      "max_depth= 1 ------error rate-------\n",
      "max_depth= 2 ------error rate-------\n",
      "max_depth= 3 ------error rate-------\n",
      "max_depth= 4 ------error rate-------\n",
      "max_depth= 5 ------error rate-------\n",
      "max_depth= 6 ------error rate-------\n"
     ]
    }
   ],
   "source": [
    "# max_depth=8 best  eta=0.4   0.06317411\n",
    "param = {}\n",
    "param['eta'] = 0.4\n",
    "param['max_depth'] = 6\n",
    "param['silent'] = 1\n",
    "param['nthread'] = 12\n",
    "param['num_class'] = 5\n",
    "\n",
    "error=[]\n",
    "for i in range (1,18):\n",
    "    print('max_depth=',i,'------error rate-------')\n",
    "    param['max_depth'] = i\n",
    "    bst = xgb.train(param, xg_train, num_round);\n",
    "    # get prediction\n",
    "    pred = bst.predict( xg_test );\n",
    "    error.append((sum( int(pred[i]) != test_Y[i] for i in range(len(test_Y))) / float(len(test_Y)) ))\n",
    "print(error)\n",
    "plt.plot(error,label='error-rate')\n",
    "plt.legend()\n",
    "plt.show()\n",
    "\n",
    "    "
   ]
  },
  {
   "cell_type": "code",
   "execution_count": 25,
   "metadata": {},
   "outputs": [
    {
     "name": "stdout",
     "output_type": "stream",
     "text": [
      "----------p-r-o-b----------\n",
      "[0]\ttrain-merror:0.057025\ttest-merror:0.062404\n",
      "[1]\ttrain-merror:0.056469\ttest-merror:0.061633\n",
      "[2]\ttrain-merror:0.056041\ttest-merror:0.062404\n",
      "[3]\ttrain-merror:0.056298\ttest-merror:0.061633\n",
      "[4]\ttrain-merror:0.056126\ttest-merror:0.062018\n",
      "[5]\ttrain-merror:0.055613\ttest-merror:0.062018\n",
      "[6]\ttrain-merror:0.055613\ttest-merror:0.062404\n",
      "[7]\ttrain-merror:0.055655\ttest-merror:0.062789\n",
      "[8]\ttrain-merror:0.055484\ttest-merror:0.062789\n",
      "[9]\ttrain-merror:0.055356\ttest-merror:0.062404\n",
      "[10]\ttrain-merror:0.055099\ttest-merror:0.062789\n",
      "[11]\ttrain-merror:0.055142\ttest-merror:0.061633\n",
      "[12]\ttrain-merror:0.05497\ttest-merror:0.062018\n",
      "[13]\ttrain-merror:0.054671\ttest-merror:0.061633\n",
      "[14]\ttrain-merror:0.054328\ttest-merror:0.062018\n",
      "[15]\ttrain-merror:0.0545\ttest-merror:0.060478\n",
      "[16]\ttrain-merror:0.054542\ttest-merror:0.060863\n",
      "[17]\ttrain-merror:0.054414\ttest-merror:0.060863\n",
      "[18]\ttrain-merror:0.054371\ttest-merror:0.060863\n",
      "[19]\ttrain-merror:0.054243\ttest-merror:0.061248\n",
      "[[ 0.03661047  0.0367338   0.03659807  0.03672048  0.85333717]\n",
      " [ 0.03670834  0.03922522  0.03654576  0.03666801  0.85085261]\n",
      " [ 0.03677768  0.85302371  0.03661479  0.03673727  0.0368465 ]\n",
      " ..., \n",
      " [ 0.03661047  0.0367338   0.03659807  0.03672048  0.85333717]\n",
      " [ 0.03663271  0.8531521   0.03662031  0.0367428   0.03685204]\n",
      " [ 0.06157451  0.33822778  0.06155366  0.24977796  0.28886607]]\n",
      "predicting, classification error=0.061248\n",
      "----------C-V-----------\n",
      "[0]\ttrain-merror:0.0564934+0.00083078\ttest-merror:0.0609216+0.00553557\n",
      "[1]\ttrain-merror:0.0559552+0.000604176\ttest-merror:0.0603225+0.00483379\n",
      "[2]\ttrain-merror:0.0556799+0.000701052\ttest-merror:0.0601086+0.00498349\n",
      "[3]\ttrain-merror:0.0556004+0.000843677\ttest-merror:0.0600229+0.00507876\n",
      "[4]\ttrain-merror:0.0551967+0.00083697\ttest-merror:0.0601088+0.00533658\n",
      "[5]\ttrain-merror:0.0550073+0.00084677\ttest-merror:0.0604511+0.00518027\n",
      "[6]\ttrain-merror:0.0548359+0.000646406\ttest-merror:0.0603652+0.00494228\n",
      "[7]\ttrain-merror:0.0547565+0.000638761\ttest-merror:0.0606225+0.00516541\n"
     ]
    }
   ],
   "source": [
    "# do the same thing again, but output probabilities\n",
    "print('----------p-r-o-b----------')\n",
    "param['objective'] = 'multi:softprob'\n",
    "bst = xgb.train(param, xg_train, num_round, watchlist );\n",
    "# Note: this convention has been changed since xgboost-unity\n",
    "# get prediction, this is in 1D array, need reshape to (ndata, nclass)\n",
    "yprob = bst.predict( xg_test ).reshape( test_Y.shape[0], 5 )\n",
    "print(yprob)\n",
    "ylabel = np.argmax(yprob, axis=1)  # return the index of the biggest pro\n",
    "print ('predicting, classification error=%f' \n",
    "       % (sum( int(ylabel[i]) != test_Y[i] for i in range(len(test_Y))) / float(len(test_Y)) ))\n",
    "\n",
    "### CV\n",
    "print ('----------C-V-----------')\n",
    "res = xgb.cv(param, xg_train, nfold=8, seed=0, stratified=True,  \n",
    "             early_stopping_rounds=5, verbose_eval=1, show_stdv=True)  \n",
    "cv_mean = res.iloc[-1, 0]  \n",
    "cv_std = res.iloc[-1, 1]  \n",
    "  \n",
    "#print('CV-Mean: {0}+{1}'.format(cv_mean, cv_std)) "
   ]
  },
  {
   "cell_type": "code",
   "execution_count": 10,
   "metadata": {},
   "outputs": [
    {
     "name": "stdout",
     "output_type": "stream",
     "text": [
      "\n",
      "Precision: 94.70064400776747%\n",
      "Recall: 93.7211093990755%\n",
      "f1_score: 93.82636580755603%\n",
      "\n",
      "Confusion Matrix:\n",
      "[[508   0   0   0   0]\n",
      " [  0 521   0   7   7]\n",
      " [  0   0 527   0   0]\n",
      " [  0  85   0 443   3]\n",
      " [  0  59   0   2 434]]\n",
      "\n",
      "Confusion matrix (normalised to % of total test data):\n",
      "[[ 19.56856728   0.           0.           0.           0.        ]\n",
      " [  0.          20.06933594   0.           0.2696456    0.2696456 ]\n",
      " [  0.           0.          20.30046272   0.           0.        ]\n",
      " [  0.           3.27426839   0.          17.06471443   0.1155624 ]\n",
      " [  0.           2.27272725   0.           0.0770416   16.71802711]]\n",
      "Note: training and testing data is not equally distributed amongst classes, \n",
      "so it is normal that more than a 6th of the data is correctly classifier in the last category.\n"
     ]
    },
    {
     "data": {
      "image/png": "[encoded data removed]",
      "text/plain": [
       "<matplotlib.figure.Figure at 0x7fe2518e53c8>"
      ]
     },
     "metadata": {},
     "output_type": "display_data"
    }
   ],
   "source": [
    "# Results\n",
    "expected = test_Y  \n",
    "predicted = pred\n",
    "import matplotlib.pyplot as plt\n",
    "LABELS = [\n",
    "    \"0\",\n",
    "    \"1\",\n",
    "    \"2\",\n",
    "    \"3\",\n",
    "    \"4\",\n",
    "]\n",
    "print(\"\")\n",
    "print(\"Precision: {}%\".format(100*metrics.precision_score(expected, predicted, average=\"weighted\")))\n",
    "print(\"Recall: {}%\".format(100*metrics.recall_score(expected, predicted, average=\"weighted\")))\n",
    "print(\"f1_score: {}%\".format(100*metrics.f1_score(expected, predicted, average=\"weighted\")))\n",
    "\n",
    "print(\"\")\n",
    "print(\"Confusion Matrix:\")\n",
    "confusion_matrix = metrics.confusion_matrix(expected, predicted)\n",
    "print(confusion_matrix)\n",
    "normalised_confusion_matrix = np.array(confusion_matrix, dtype=np.float32)/np.sum(confusion_matrix)*100\n",
    "\n",
    "print(\"\")\n",
    "print(\"Confusion matrix (normalised to % of total test data):\")\n",
    "print(normalised_confusion_matrix)\n",
    "print(\"Note: training and testing data is not equally distributed amongst classes, \")\n",
    "print(\"so it is normal that more than a 6th of the data is correctly classifier in the last category.\")\n",
    "\n",
    "# Plot Results: \n",
    "width = 12\n",
    "height = 12\n",
    "plt.figure(figsize=(width, height))\n",
    "plt.imshow(\n",
    "    normalised_confusion_matrix, \n",
    "    interpolation='nearest', \n",
    "    cmap=plt.cm.rainbow\n",
    ")\n",
    "plt.title(\"Confusion matrix \\n(normalised to % of total test data)\")\n",
    "plt.colorbar()\n",
    "tick_marks = np.arange(5) # n_classes\n",
    "plt.xticks(tick_marks, LABELS, rotation=45)\n",
    "plt.yticks(tick_marks, LABELS)\n",
    "plt.tight_layout()\n",
    "plt.ylabel('True label')\n",
    "plt.xlabel('Predicted label')\n",
    "plt.show()"
   ]
  },
  {
   "cell_type": "code",
   "execution_count": null,
   "metadata": {
    "collapsed": true
   },
   "outputs": [],
   "source": []
  }
 ],
 "metadata": {
  "kernelspec": {
   "display_name": "Python 3",
   "language": "python",
   "name": "python3"
  },
  "language_info": {
   "codemirror_mode": {
    "name": "ipython",
    "version": 3
   },
   "file_extension": ".py",
   "mimetype": "text/x-python",
   "name": "python",
   "nbconvert_exporter": "python",
   "pygments_lexer": "ipython3",
   "version": "3.6.1"
  }
 },
 "nbformat": 4,
 "nbformat_minor": 2
}
