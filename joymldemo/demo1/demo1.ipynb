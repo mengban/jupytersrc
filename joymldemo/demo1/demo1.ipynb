{
 "cells": [
  {
   "cell_type": "markdown",
   "metadata": {},
   "source": [
    "## META  PL  IPT  BD  TLS"
   ]
  },
  {
   "cell_type": "code",
   "execution_count": 1,
   "metadata": {},
   "outputs": [
    {
     "name": "stderr",
     "output_type": "stream",
     "text": [
      "/home/cadu/anaconda3/lib/python3.6/site-packages/sklearn/cross_validation.py:44: DeprecationWarning: This module was deprecated in version 0.18 in favor of the model_selection module into which all the refactored classes and functions are moved. Also note that the interface of the new CV iterators are different from that of this module. This module will be removed in 0.20.\n",
      "  \"This module will be removed in 0.20.\", DeprecationWarning)\n"
     ]
    },
    {
     "name": "stdout",
     "output_type": "stream",
     "text": [
      "This is data_train <class 'numpy.ndarray'> (25954, 661)\n",
      "This is X_test <class 'numpy.ndarray'> (2596, 661)\n",
      "This is y_test <class 'numpy.ndarray'> (2596, 1)\n",
      "This cell has done...\n"
     ]
    }
   ],
   "source": [
    "import pandas as pd\n",
    "import numpy as np\n",
    "from sklearn import datasets, svm, metrics\n",
    "from sklearn import cross_validation\n",
    "import time\n",
    "def loaddata(Filename):\n",
    "    data = pd.read_csv(Filename,sep=',',header = None)\n",
    "    return np.array(data)\n",
    "# dataset\n",
    "data1 = loaddata(\"data0_1.csv\")\n",
    "data2 = loaddata(\"data1_1.csv\")\n",
    "data3 = loaddata(\"data2_1.csv\")\n",
    "data4 = loaddata(\"data3_1.csv\")\n",
    "data5 = loaddata(\"data4_1.csv\")\n",
    "\n",
    "data_train = np.vstack((data1[:len(data1)-1],data2[:len(data1)]))\n",
    "data_train = np.vstack((data_train,data3[:len(data1)]))\n",
    "data_train = np.vstack((data_train,data4[:len(data1)]))\n",
    "data_train = np.vstack((data_train,data5[:len(data1)]))\n",
    "\n",
    "print('This is data_train',type(data_train),data_train.shape)\n",
    "#label\n",
    "data1 = loaddata(\"label0_1.csv\")\n",
    "data2 = loaddata(\"label1_1.csv\")\n",
    "data3 = loaddata(\"label2_1.csv\")\n",
    "data4 = loaddata(\"label3_1.csv\")\n",
    "data5 = loaddata(\"label4_1.csv\")\n",
    "\n",
    "label_train = np.vstack((data1[:len(data1)-1],data2[:len(data1)]))\n",
    "label_train = np.vstack((label_train,data3[:len(data1)]))\n",
    "label_train = np.vstack((label_train,data4[:len(data1)]))\n",
    "label_train = np.vstack((label_train,data5[:len(data1)]))\n",
    "#print(label_test[100:800])\n",
    "X_train,X_test,y_train,y_test=cross_validation.train_test_split(data_train,label_train,test_size=0.1)\n",
    "\n",
    "print('This is X_test',type(X_test),X_test.shape)\n",
    "print('This is y_test',type(y_test),y_test.shape)\n",
    "print('This cell has done...')"
   ]
  },
  {
   "cell_type": "code",
   "execution_count": 2,
   "metadata": {},
   "outputs": [
    {
     "name": "stdout",
     "output_type": "stream",
     "text": [
      "Training starts...\n"
     ]
    },
    {
     "name": "stderr",
     "output_type": "stream",
     "text": [
      "/home/cadu/anaconda3/lib/python3.6/site-packages/sklearn/utils/validation.py:526: DataConversionWarning: A column-vector y was passed when a 1d array was expected. Please change the shape of y to (n_samples, ), for example using ravel().\n",
      "  y = column_or_1d(y, warn=True)\n"
     ]
    },
    {
     "name": "stdout",
     "output_type": "stream",
     "text": [
      "Train train total time is: 1001.9097471237183\n",
      "Test starts...\n",
      "Classification report for classifier SVC(C=1.0, cache_size=200, class_weight=None, coef0=0.0,\n",
      "  decision_function_shape=None, degree=3, gamma=0.001, kernel='rbf',\n",
      "  max_iter=-1, probability=False, random_state=None, shrinking=True,\n",
      "  tol=0.001, verbose=False):\n",
      "             precision    recall  f1-score   support\n",
      "\n",
      "          0       0.98      0.64      0.78       540\n",
      "          1       0.74      0.72      0.73       511\n",
      "          2       0.48      1.00      0.65       476\n",
      "          3       0.96      0.70      0.81       551\n",
      "          4       0.96      0.65      0.77       518\n",
      "\n",
      "avg / total       0.83      0.74      0.75      2596\n",
      "\n",
      "\n",
      "Confusion matrix:\n",
      "[[347   0 185   0   8]\n",
      " [  0 368 121  18   4]\n",
      " [  0   0 476   0   0]\n",
      " [  0  88  75 385   3]\n",
      " [  7  38 137   0 336]]\n",
      "The test time is 32.39085125923157\n"
     ]
    }
   ],
   "source": [
    "#svm\n",
    "classifier = svm.SVC(gamma=0.001)\n",
    "\n",
    "timeStart=time.time()\n",
    "# learn\n",
    "print('Training starts...')\n",
    "classifier.fit(X_train, y_train)\n",
    "\n",
    "timeHalf=time.time()\n",
    "print('Train train total time is:',timeHalf-timeStart)\n",
    "#predicted\n",
    "\n",
    "print('Test starts...')\n",
    "expected =y_test\n",
    "predicted=classifier.predict(X_test)\n",
    "'''\n",
    "print(\"Classification report for classifier %s:\\n%s\\n\"\n",
    "      % (classifier, metrics.classification_report(expected, predicted)))\n",
    "print(\"Confusion matrix:\\n%s\" % metrics.confusion_matrix(expected, predicted))\n",
    "'''\n",
    "timeEnd=time.time()\n",
    "print('Test done!The test time is',timeEnd-timeHalf)\n"
   ]
  },
  {
   "cell_type": "code",
   "execution_count": 11,
   "metadata": {},
   "outputs": [
    {
     "name": "stdout",
     "output_type": "stream",
     "text": [
      "Classification report for classifier SVC(C=1.0, cache_size=200, class_weight=None, coef0=0.0,\n",
      "  decision_function_shape=None, degree=3, gamma=0.001, kernel='rbf',\n",
      "  max_iter=-1, probability=False, random_state=None, shrinking=True,\n",
      "  tol=0.001, verbose=False):\n",
      "             precision    recall  f1-score   support\n",
      "\n",
      "          0       0.98      0.64      0.78       540\n",
      "          1       0.74      0.72      0.73       511\n",
      "          2       0.48      1.00      0.65       476\n",
      "          3       0.96      0.70      0.81       551\n",
      "          4       0.96      0.65      0.77       518\n",
      "\n",
      "avg / total       0.83      0.74      0.75      2596\n",
      "\n",
      "\n",
      "\n",
      "Precision: 83.21196030464144%\n",
      "Recall: 73.6517719568567%\n",
      "f1_score: 74.99939936342682%\n",
      "\n",
      "Confusion Matrix:\n",
      "[[347   0 185   0   8]\n",
      " [  0 368 121  18   4]\n",
      " [  0   0 476   0   0]\n",
      " [  0  88  75 385   3]\n",
      " [  7  38 137   0 336]]\n",
      "\n",
      "Confusion matrix (normalised to % of total test data):\n",
      "[[ 13.36671829   0.           7.1263485    0.           0.30816641]\n",
      " [  0.          14.17565536   4.66101694   0.6933744    0.15408321]\n",
      " [  0.           0.          18.33590126   0.           0.        ]\n",
      " [  0.           3.38983059   2.88906002  14.83050919   0.1155624 ]\n",
      " [  0.2696456    1.46379042   5.27734995   0.          12.94298935]]\n",
      "Note: training and testing data is not equally distributed amongst classes, \n",
      "so it is normal that more than a 6th of the data is correctly classifier in the last category.\n"
     ]
    },
    {
     "data": {
      "image/png": "[encoded data removed]",
      "text/plain": [
       "<matplotlib.figure.Figure at 0x7f90dce7d518>"
      ]
     },
     "metadata": {},
     "output_type": "display_data"
    }
   ],
   "source": [
    "# Results\n",
    "import matplotlib.pyplot as plt\n",
    "LABELS = [\n",
    "    \"0\",\n",
    "    \"1\",\n",
    "    \"2\",\n",
    "    \"3\",\n",
    "    \"4\",\n",
    "]\n",
    "print(\"Classification report for classifier %s:\\n%s\\n\"\n",
    "      % (classifier, metrics.classification_report(expected, predicted)))\n",
    "print(\"\")\n",
    "print(\"Precision: {}%\".format(100*metrics.precision_score(expected, predicted, average=\"weighted\")))\n",
    "print(\"Recall: {}%\".format(100*metrics.recall_score(expected, predicted, average=\"weighted\")))\n",
    "print(\"f1_score: {}%\".format(100*metrics.f1_score(expected, predicted, average=\"weighted\")))\n",
    "\n",
    "print(\"\")\n",
    "print(\"Confusion Matrix:\")\n",
    "confusion_matrix = metrics.confusion_matrix(expected, predicted)\n",
    "print(confusion_matrix)\n",
    "normalised_confusion_matrix = np.array(confusion_matrix, dtype=np.float32)/np.sum(confusion_matrix)*100\n",
    "\n",
    "print(\"\")\n",
    "print(\"Confusion matrix (normalised to % of total test data):\")\n",
    "print(normalised_confusion_matrix)\n",
    "print(\"Note: training and testing data is not equally distributed amongst classes, \")\n",
    "print(\"so it is normal that more than a 6th of the data is correctly classifier in the last category.\")\n",
    "\n",
    "# Plot Results: \n",
    "width = 12\n",
    "height = 12\n",
    "plt.figure(figsize=(width, height))\n",
    "plt.imshow(\n",
    "    normalised_confusion_matrix, \n",
    "    interpolation='nearest', \n",
    "    cmap=plt.cm.rainbow\n",
    ")\n",
    "plt.title(\"Confusion matrix \\n(normalised to % of total test data)\")\n",
    "plt.colorbar()\n",
    "tick_marks = np.arange(5) # n_classes\n",
    "plt.xticks(tick_marks, LABELS, rotation=45)\n",
    "plt.yticks(tick_marks, LABELS)\n",
    "plt.tight_layout()\n",
    "plt.ylabel('True label')\n",
    "plt.xlabel('Predicted label')\n",
    "plt.show()"
   ]
  },
  {
   "cell_type": "code",
   "execution_count": null,
   "metadata": {
    "collapsed": true
   },
   "outputs": [],
   "source": []
  }
 ],
 "metadata": {
  "kernelspec": {
   "display_name": "Python 3",
   "language": "python",
   "name": "python3"
  },
  "language_info": {
   "codemirror_mode": {
    "name": "ipython",
    "version": 3
   },
   "file_extension": ".py",
   "mimetype": "text/x-python",
   "name": "python",
   "nbconvert_exporter": "python",
   "pygments_lexer": "ipython3",
   "version": "3.6.1"
  }
 },
 "nbformat": 4,
 "nbformat_minor": 2
}
