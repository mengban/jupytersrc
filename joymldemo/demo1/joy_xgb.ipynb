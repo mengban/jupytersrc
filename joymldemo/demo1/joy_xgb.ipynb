{
 "cells": [
  {
   "cell_type": "code",
   "execution_count": 2,
   "metadata": {},
   "outputs": [
    {
     "name": "stdout",
     "output_type": "stream",
     "text": [
      "This is data_train <class 'numpy.ndarray'> (25954, 661)\n",
      "This is X_test <class 'numpy.ndarray'> (2596, 661)\n",
      "This is y_test <class 'numpy.ndarray'> (2596, 1)\n",
      "This cell has done...\n"
     ]
    }
   ],
   "source": [
    "import pandas as pd\n",
    "import numpy as np\n",
    "from sklearn import datasets, svm, metrics\n",
    "from sklearn import cross_validation\n",
    "import xgboost as xgb\n",
    "import time\n",
    "def loaddata(Filename):\n",
    "    data = pd.read_csv(Filename,sep=',',header = None)\n",
    "    return np.array(data)\n",
    "# dataset\n",
    "data1 = loaddata(\"data0_1.csv\")\n",
    "data2 = loaddata(\"data1_1.csv\")\n",
    "data3 = loaddata(\"data2_1.csv\")\n",
    "data4 = loaddata(\"data3_1.csv\")\n",
    "data5 = loaddata(\"data4_1.csv\")\n",
    "\n",
    "data_train = np.vstack((data1[:len(data1)-1],data2[:len(data1)]))\n",
    "data_train = np.vstack((data_train,data3[:len(data1)]))\n",
    "data_train = np.vstack((data_train,data4[:len(data1)]))\n",
    "data_train = np.vstack((data_train,data5[:len(data1)]))\n",
    "\n",
    "print('This is data_train',type(data_train),data_train.shape)\n",
    "#label\n",
    "data1 = loaddata(\"label0_1.csv\")\n",
    "data2 = loaddata(\"label1_1.csv\")\n",
    "data3 = loaddata(\"label2_1.csv\")\n",
    "data4 = loaddata(\"label3_1.csv\")\n",
    "data5 = loaddata(\"label4_1.csv\")\n",
    "\n",
    "label_train = np.vstack((data1[:len(data1)-1],data2[:len(data1)]))\n",
    "label_train = np.vstack((label_train,data3[:len(data1)]))\n",
    "label_train = np.vstack((label_train,data4[:len(data1)]))\n",
    "label_train = np.vstack((label_train,data5[:len(data1)]))\n",
    "#print(label_test[100:800])\n",
    "train_X,test_X,train_Y,test_Y=cross_validation.train_test_split(data_train,label_train,test_size=0.1)\n",
    "\n",
    "print('This is X_test',type(X_test),X_test.shape)\n",
    "print('This is y_test',type(y_test),y_test.shape)\n",
    "print('This cell has done...')"
   ]
  },
  {
   "cell_type": "code",
   "execution_count": 32,
   "metadata": {},
   "outputs": [
    {
     "name": "stdout",
     "output_type": "stream",
     "text": [
      "[0]\ttrain-merror:0.05938\ttest-merror:0.052388\n",
      "[1]\ttrain-merror:0.05968\ttest-merror:0.052388\n",
      "[2]\ttrain-merror:0.059209\ttest-merror:0.053159\n",
      "[3]\ttrain-merror:0.059637\ttest-merror:0.052388\n",
      "[4]\ttrain-merror:0.059509\ttest-merror:0.052003\n",
      "[ 1.  2.  0. ...,  2.  4.  4.]\n",
      "predicting, classification error=0.052003\n",
      "[0]\ttrain-merror:0.05938\ttest-merror:0.052388\n",
      "[1]\ttrain-merror:0.05968\ttest-merror:0.052388\n",
      "[2]\ttrain-merror:0.059209\ttest-merror:0.053159\n",
      "[3]\ttrain-merror:0.059637\ttest-merror:0.052388\n",
      "[4]\ttrain-merror:0.059509\ttest-merror:0.052003\n",
      "[[ 0.13809687  0.44727162  0.13807431  0.13820949  0.13834777]\n",
      " [ 0.1379887   0.138189    0.44748169  0.13810122  0.1382394 ]\n",
      " [ 0.44747347  0.13819671  0.13797385  0.13810891  0.13824709]\n",
      " ..., \n",
      " [ 0.1379887   0.138189    0.44748169  0.13810122  0.1382394 ]\n",
      " [ 0.19817194  0.1985793   0.19813958  0.19864337  0.20646583]\n",
      " [ 0.13806143  0.13826185  0.1380389   0.13817403  0.44746372]]\n",
      "predicting, classification error=0.052003\n"
     ]
    }
   ],
   "source": [
    "xg_train = xgb.DMatrix( train_X, label=train_Y)\n",
    "xg_test = xgb.DMatrix(test_X, label=test_Y)\n",
    "# setup parameters for xgboost\n",
    "param = {}\n",
    "# use softmax multi-class classification\n",
    "param['objective'] = 'multi:softmax'\n",
    "# scale weight of positive examples\n",
    "param['eta'] = 0.1\n",
    "param['max_depth'] = 6\n",
    "param['silent'] = 1\n",
    "param['nthread'] = 16\n",
    "param['num_class'] = 5\n",
    "\n",
    "watchlist = [ (xg_train,'train'), (xg_test, 'test') ]\n",
    "num_round = 5\n",
    "bst = xgb.train(param, xg_train, num_round, watchlist );\n",
    "# get prediction\n",
    "pred = bst.predict( xg_test );\n",
    "print(pred)\n",
    "\n",
    "print ('predicting, classification error=%f' \n",
    "       % (sum( int(pred[i]) != test_Y[i] for i in range(len(test_Y))) / float(len(test_Y)) ))\n",
    "\n",
    "# do the same thing again, but output probabilities\n",
    "param['objective'] = 'multi:softprob'\n",
    "bst = xgb.train(param, xg_train, num_round, watchlist );\n",
    "# Note: this convention has been changed since xgboost-unity\n",
    "# get prediction, this is in 1D array, need reshape to (ndata, nclass)\n",
    "yprob = bst.predict( xg_test ).reshape( test_Y.shape[0], 5 )\n",
    "print(yprob)\n",
    "ylabel = np.argmax(yprob, axis=1)  # return the index of the biggest pro\n",
    "print ('predicting, classification error=%f' \n",
    "       % (sum( int(ylabel[i]) != test_Y[i] for i in range(len(test_Y))) / float(len(test_Y)) ))"
   ]
  },
  {
   "cell_type": "code",
   "execution_count": 17,
   "metadata": {},
   "outputs": [
    {
     "name": "stdout",
     "output_type": "stream",
     "text": [
      "\n",
      "Precision: 95.76122172173801%\n",
      "Recall: 94.79969183359015%\n",
      "f1_score: 94.90471219278197%\n",
      "\n",
      "Confusion Matrix:\n",
      "[[516   1   0   0   0]\n",
      " [  0 512   0   1   1]\n",
      " [  0   0 501   0   0]\n",
      " [  0  72   0 444   3]\n",
      " [  1  56   0   0 488]]\n",
      "\n",
      "Confusion matrix (normalised to % of total test data):\n",
      "[[ 19.87673378   0.0385208    0.           0.           0.        ]\n",
      " [  0.          19.72265053   0.           0.0385208    0.0385208 ]\n",
      " [  0.           0.          19.29892159   0.           0.        ]\n",
      " [  0.           2.77349758   0.          17.10323524   0.1155624 ]\n",
      " [  0.0385208    2.15716481   0.           0.          18.79815102]]\n",
      "Note: training and testing data is not equally distributed amongst classes, \n",
      "so it is normal that more than a 6th of the data is correctly classifier in the last category.\n"
     ]
    },
    {
     "data": {
      "image/png": "[encoded data removed]",
      "text/plain": [
       "<matplotlib.figure.Figure at 0x7fcedbeb1c50>"
      ]
     },
     "metadata": {},
     "output_type": "display_data"
    }
   ],
   "source": [
    "# Results\n",
    "expected = test_Y  \n",
    "predicted = pred\n",
    "import matplotlib.pyplot as plt\n",
    "LABELS = [\n",
    "    \"0\",\n",
    "    \"1\",\n",
    "    \"2\",\n",
    "    \"3\",\n",
    "    \"4\",\n",
    "]\n",
    "print(\"\")\n",
    "print(\"Precision: {}%\".format(100*metrics.precision_score(expected, predicted, average=\"weighted\")))\n",
    "print(\"Recall: {}%\".format(100*metrics.recall_score(expected, predicted, average=\"weighted\")))\n",
    "print(\"f1_score: {}%\".format(100*metrics.f1_score(expected, predicted, average=\"weighted\")))\n",
    "\n",
    "print(\"\")\n",
    "print(\"Confusion Matrix:\")\n",
    "confusion_matrix = metrics.confusion_matrix(expected, predicted)\n",
    "print(confusion_matrix)\n",
    "normalised_confusion_matrix = np.array(confusion_matrix, dtype=np.float32)/np.sum(confusion_matrix)*100\n",
    "\n",
    "print(\"\")\n",
    "print(\"Confusion matrix (normalised to % of total test data):\")\n",
    "print(normalised_confusion_matrix)\n",
    "print(\"Note: training and testing data is not equally distributed amongst classes, \")\n",
    "print(\"so it is normal that more than a 6th of the data is correctly classifier in the last category.\")\n",
    "\n",
    "# Plot Results: \n",
    "width = 12\n",
    "height = 12\n",
    "plt.figure(figsize=(width, height))\n",
    "plt.imshow(\n",
    "    normalised_confusion_matrix, \n",
    "    interpolation='nearest', \n",
    "    cmap=plt.cm.rainbow\n",
    ")\n",
    "plt.title(\"Confusion matrix \\n(normalised to % of total test data)\")\n",
    "plt.colorbar()\n",
    "tick_marks = np.arange(5) # n_classes\n",
    "plt.xticks(tick_marks, LABELS, rotation=45)\n",
    "plt.yticks(tick_marks, LABELS)\n",
    "plt.tight_layout()\n",
    "plt.ylabel('True label')\n",
    "plt.xlabel('Predicted label')\n",
    "plt.show()"
   ]
  },
  {
   "cell_type": "code",
   "execution_count": null,
   "metadata": {
    "collapsed": true
   },
   "outputs": [],
   "source": []
  }
 ],
 "metadata": {
  "kernelspec": {
   "display_name": "Python 3",
   "language": "python",
   "name": "python3"
  },
  "language_info": {
   "codemirror_mode": {
    "name": "ipython",
    "version": 3
   },
   "file_extension": ".py",
   "mimetype": "text/x-python",
   "name": "python",
   "nbconvert_exporter": "python",
   "pygments_lexer": "ipython3",
   "version": "3.6.1"
  }
 },
 "nbformat": 4,
 "nbformat_minor": 2
}
