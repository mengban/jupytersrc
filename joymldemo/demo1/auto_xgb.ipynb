{
 "cells": [
  {
   "cell_type": "code",
   "execution_count": 10,
   "metadata": {},
   "outputs": [
    {
     "name": "stderr",
     "output_type": "stream",
     "text": [
      "/home/cadu/anaconda3/lib/python3.6/site-packages/IPython/core/interactiveshell.py:2717: DtypeWarning: Columns (12,14,22) have mixed types. Specify dtype option on import or set low_memory=False.\n",
      "  interactivity=interactivity, compiler=compiler, result=result)\n"
     ]
    }
   ],
   "source": [
    "import pandas as pd\n",
    "import numpy as np\n",
    "import xgboost as xgb\n",
    "from xgboost.sklearn import XGBClassifier\n",
    "from sklearn import cross_validation, metrics   #Additional scklearn functions\n",
    "from sklearn.grid_search import GridSearchCV   #Perforing grid search\n",
    "\n",
    "import matplotlib.pylab as plt\n",
    "%matplotlib inline\n",
    "from matplotlib.pylab import rcParams\n",
    "rcParams['figure.figsize'] = 12, 4\n",
    "\n",
    "train = pd.read_csv('Train_modified.csv',encoding = \"ISO-8859-1\")\n",
    "target = 'Disbursed'\n",
    "IDcol = 'ID'"
   ]
  },
  {
   "cell_type": "code",
   "execution_count": 16,
   "metadata": {},
   "outputs": [
    {
     "name": "stdout",
     "output_type": "stream",
     "text": [
      "This is data_train <class 'numpy.ndarray'> (25954, 661)\n",
      "This is test_X <class 'numpy.ndarray'> (2596, 661)\n",
      "This is test_Y <class 'numpy.ndarray'> (2596, 1)\n",
      "This cell has done...\n"
     ]
    }
   ],
   "source": [
    "\n",
    "def loaddata(Filename):\n",
    "    data = pd.read_csv(Filename,sep=',',header = None)\n",
    "    return np.array(data)\n",
    "# dataset\n",
    "data1 = loaddata(\"data0_1.csv\")\n",
    "data2 = loaddata(\"data1_1.csv\")\n",
    "data3 = loaddata(\"data2_1.csv\")\n",
    "data4 = loaddata(\"data3_1.csv\")\n",
    "data5 = loaddata(\"data4_1.csv\")\n",
    "\n",
    "data_train = np.vstack((data1[:len(data1)-1],data2[:len(data1)]))\n",
    "data_train = np.vstack((data_train,data3[:len(data1)]))\n",
    "data_train = np.vstack((data_train,data4[:len(data1)]))\n",
    "data_train = np.vstack((data_train,data5[:len(data1)]))\n",
    "\n",
    "print('This is data_train',type(data_train),data_train.shape)\n",
    "#label\n",
    "data1 = loaddata(\"label0_1.csv\")\n",
    "data2 = loaddata(\"label1_1.csv\")\n",
    "data3 = loaddata(\"label2_1.csv\")\n",
    "data4 = loaddata(\"label3_1.csv\")\n",
    "data5 = loaddata(\"label4_1.csv\")\n",
    "\n",
    "label_train = np.vstack((data1[:len(data1)-1],data2[:len(data1)]))\n",
    "label_train = np.vstack((label_train,data3[:len(data1)]))\n",
    "label_train = np.vstack((label_train,data4[:len(data1)]))\n",
    "label_train = np.vstack((label_train,data5[:len(data1)]))\n",
    "#print(label_test[100:800])\n",
    "train_X,test_X,train_Y,test_Y=cross_validation.train_test_split(data_train,label_train,test_size=0.1)\n",
    "\n",
    "print('This is test_X',type(test_X),test_X.shape)\n",
    "print('This is test_Y',type(test_Y),test_Y.shape)\n",
    "print('This cell has done...')\n",
    "train = train_X\n",
    "predictors = test_X"
   ]
  },
  {
   "cell_type": "code",
   "execution_count": 21,
   "metadata": {},
   "outputs": [],
   "source": [
    "\n",
    "def modelfit(alg, dtrain, predictors,useTrainCV=True, cv_folds=5, early_stopping_rounds=50):\n",
    "    \n",
    "    if useTrainCV:\n",
    "        xgb_param = alg.get_xgb_params()\n",
    "        xgtrain = xgb.DMatrix(train_X, label=train_Y)\n",
    "        cvresult = xgb.cv(xgb_param, xgtrain, num_boost_round=alg.get_params()['n_estimators'], nfold=cv_folds,\n",
    "            metrics='auc', early_stopping_rounds=early_stopping_rounds) #show_progress=False\n",
    "        alg.set_params(n_estimators=cvresult.shape[0])\n",
    "    \n",
    "    #Fit the algorithm on the data\n",
    "    alg.fit(dtrain[predictors], dtrain['Disbursed'],eval_metric='auc')\n",
    "        \n",
    "    #Predict training set:\n",
    "    dtrain_predictions = alg.predict(dtrain[predictors])\n",
    "    dtrain_predprob = alg.predict_proba(dtrain[predictors])[:,1]\n",
    "        \n",
    "    #Print model report:\n",
    "    print (\"\\nModel Report\")\n",
    "    print (\"Accuracy : %.4g\" % metrics.accuracy_score(dtrain['Disbursed'].values, dtrain_predictions))\n",
    "    print (\"AUC Score (Train): %f\" % metrics.roc_auc_score(dtrain['Disbursed'], dtrain_predprob))\n",
    "                    \n",
    "    feat_imp = pd.Series(alg.booster().get_fscore()).sort_values(ascending=False)\n",
    "    feat_imp.plot(kind='bar', title='Feature Importances')\n",
    "    plt.ylabel('Feature Importance Score')"
   ]
  },
  {
   "cell_type": "code",
   "execution_count": 27,
   "metadata": {},
   "outputs": [
    {
     "ename": "SyntaxError",
     "evalue": "keyword can't be an expression (<ipython-input-27-3bc61e48de36>, line 14)",
     "output_type": "error",
     "traceback": [
      "\u001b[0;36m  File \u001b[0;32m\"<ipython-input-27-3bc61e48de36>\"\u001b[0;36m, line \u001b[0;32m14\u001b[0m\n\u001b[0;31m    'num_class' = 5,\u001b[0m\n\u001b[0m    ^\u001b[0m\n\u001b[0;31mSyntaxError\u001b[0m\u001b[0;31m:\u001b[0m keyword can't be an expression\n"
     ]
    }
   ],
   "source": [
    "#Choose all predictors except target & IDcols\n",
    "#predictors = [x for x in train.columns if x not in [target, IDcol]]\n",
    "xgb1 = XGBClassifier(\n",
    " learning_rate =0.1,\n",
    " n_estimators=1000,\n",
    " max_depth=5,\n",
    " min_child_weight=1,\n",
    " gamma=0,\n",
    " subsample=0.8,\n",
    " colsample_bytree=0.8,\n",
    " objective= 'multi:softmax',\n",
    " nthread=12,\n",
    " scale_pos_weight=1,\n",
    " seed=27)\n",
    "modelfit(xgb1, train, predictors)"
   ]
  },
  {
   "cell_type": "code",
   "execution_count": null,
   "metadata": {
    "collapsed": true
   },
   "outputs": [],
   "source": []
  }
 ],
 "metadata": {
  "kernelspec": {
   "display_name": "Python 3",
   "language": "python",
   "name": "python3"
  },
  "language_info": {
   "codemirror_mode": {
    "name": "ipython",
    "version": 3
   },
   "file_extension": ".py",
   "mimetype": "text/x-python",
   "name": "python",
   "nbconvert_exporter": "python",
   "pygments_lexer": "ipython3",
   "version": "3.6.1"
  }
 },
 "nbformat": 4,
 "nbformat_minor": 2
}
