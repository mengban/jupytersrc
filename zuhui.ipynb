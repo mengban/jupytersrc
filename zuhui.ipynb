{
 "cells": [
  {
   "cell_type": "markdown",
   "metadata": {},
   "source": [
    "> \n",
    "# 组会 2017-09-29\n",
    "--- \n",
    "## 1.爱动\n",
    "**简介：六轴陀螺仪采集加速度、角速度数据，利用机器学习的方法进行碰撞检测、驾驶行为检测等。**\n",
    ">> \n",
    "### 当前进度\n",
    "- **1.陀螺仪数据的采集**\n",
    "    - **1.SD卡。**车载SD卡采集16进制原始数据，PC端解析数据生成CSV文件格式。参量包括：三轴加速度，三轴角速度。\n",
    "    - **2.无线实时采集。**\n",
    "     - a.无线串口。配合已有上位机软件，可实时观察波形并且实现数据存储。（实验可以采用。）\n",
    "     - b.WiFi。实时观察波形数据可能需要自己写上位机。（公司采用的是WiFI方案。）\n",
    "- **2.TensorFlow的学习。**\n",
    "     - 刚开始看。  \n",
    ">>   \n",
    "### 下一步\n",
    "- **1.学习TensorFlow。**\n",
    "- **2.大量采集训练数据。**\n",
    "     - 方案a：SD卡放车上，遥控车。采集原始16进制数据存至卡中，PC端python脚本解析，导入csv文件。\n",
    "     - 方案b：无线串口采集+本地存储。\n",
    "\n",
    "> \n",
    "---\n",
    "## 2.流量分析\n",
    "**简介：对网络数据报进行抓取、解析，并将相关报文信息进行向量化后，通过机器学习的方法实现恶意流量的识别、分类。**\n",
    ">> \n",
    "### 当前进度\n",
    "- **1.joy的复现。**Github上的开源代码joy已经基本复现。\n",
    "     - a. Meta.　原始数据流。\n",
    "     - b. SPLT.　包长及到达时间序列。\n",
    "     - c. BD.　　字节分布。\n",
    "     - d. TLS..　未加密的TLS头信息。\n",
    "     - e. SS.　　自签名。\n",
    "![](4+.png)\n",
    "- **2.JSON文件向量化。**抓包文件\\.pcap经joy命令生成JSON文件。JSON文件中的每条报文都映射成为一个向量。\n",
    "![](packet.png)\n",
    "![](vector.png)\n",
    ">> \n",
    "### 下一步\n",
    "- **1.弄清每条报文对应向量每一维的含义。**\n",
    "- **2.把数据包的某些特征可视化。**比如字节分布的均值、标准差等。\n",
    "- **3.送数据至分类器。**\n"
   ]
  },
  {
   "cell_type": "markdown",
   "metadata": {},
   "source": []
  },
  {
   "cell_type": "markdown",
   "metadata": {},
   "source": [
    "# 会议记录\n",
    "## \n",
    "- MOOC scikit-learn 北理 bt\n",
    "- 最佳采样频率\n",
    "- 采集数据的切割\n",
    "- IMU 校准TK_IMU EKF \n",
    "- 周晓敏师姐 无线传输 功率分配...\n",
    "- 梯度负方向下降最快\n",
    "- 交叉验证 PCR cross validation\n",
    "- fast sktech "
   ]
  },
  {
   "cell_type": "code",
   "execution_count": null,
   "metadata": {},
   "outputs": [],
   "source": []
  }
 ],
 "metadata": {
  "kernelspec": {
   "display_name": "Python 3",
   "language": "python",
   "name": "python3"
  },
  "language_info": {
   "codemirror_mode": {
    "name": "ipython",
    "version": 3
   },
   "file_extension": ".py",
   "mimetype": "text/x-python",
   "name": "python",
   "nbconvert_exporter": "python",
   "pygments_lexer": "ipython3",
   "version": "3.5.2"
  }
 },
 "nbformat": 4,
 "nbformat_minor": 2
}
